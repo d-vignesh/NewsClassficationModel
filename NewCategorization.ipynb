{
 "cells": [
  {
   "cell_type": "code",
   "execution_count": 0,
   "metadata": {
    "colab": {
     "base_uri": "https://localhost:8080/",
     "height": 208
    },
    "colab_type": "code",
    "id": "CO-mVCv5ZgP0",
    "outputId": "351cc027-9ea4-4174-d857-036295333ae1"
   },
   "outputs": [
    {
     "name": "stdout",
     "output_type": "stream",
     "text": [
      "Requirement already satisfied: kaggle in /usr/local/lib/python3.6/dist-packages (1.5.6)\n",
      "Requirement already satisfied: tqdm in /usr/local/lib/python3.6/dist-packages (from kaggle) (4.38.0)\n",
      "Requirement already satisfied: python-dateutil in /usr/local/lib/python3.6/dist-packages (from kaggle) (2.8.1)\n",
      "Requirement already satisfied: urllib3<1.25,>=1.21.1 in /usr/local/lib/python3.6/dist-packages (from kaggle) (1.24.3)\n",
      "Requirement already satisfied: requests in /usr/local/lib/python3.6/dist-packages (from kaggle) (2.21.0)\n",
      "Requirement already satisfied: six>=1.10 in /usr/local/lib/python3.6/dist-packages (from kaggle) (1.12.0)\n",
      "Requirement already satisfied: python-slugify in /usr/local/lib/python3.6/dist-packages (from kaggle) (4.0.0)\n",
      "Requirement already satisfied: certifi in /usr/local/lib/python3.6/dist-packages (from kaggle) (2020.4.5.1)\n",
      "Requirement already satisfied: idna<2.9,>=2.5 in /usr/local/lib/python3.6/dist-packages (from requests->kaggle) (2.8)\n",
      "Requirement already satisfied: chardet<3.1.0,>=3.0.2 in /usr/local/lib/python3.6/dist-packages (from requests->kaggle) (3.0.4)\n",
      "Requirement already satisfied: text-unidecode>=1.3 in /usr/local/lib/python3.6/dist-packages (from python-slugify->kaggle) (1.3)\n"
     ]
    }
   ],
   "source": [
    "!pip install kaggle"
   ]
  },
  {
   "cell_type": "code",
   "execution_count": 0,
   "metadata": {
    "colab": {},
    "colab_type": "code",
    "id": "Ej6JX8vidnsL"
   },
   "outputs": [],
   "source": [
    "!mkdir ~/.kaggle"
   ]
  },
  {
   "cell_type": "code",
   "execution_count": 0,
   "metadata": {
    "colab": {},
    "colab_type": "code",
    "id": "6TCtfiJndyGz"
   },
   "outputs": [],
   "source": [
    "!echo '{\"username\":\"<you kaggle user_name>\",\"key\":\"<your kaggle access_key>\"}' > ~/.kaggle/kaggle.json"
   ]
  },
  {
   "cell_type": "code",
   "execution_count": 0,
   "metadata": {
    "colab": {},
    "colab_type": "code",
    "id": "nYHOc34eewZG"
   },
   "outputs": [],
   "source": [
    "!chmod 600 ~/.kaggle/kaggle.json"
   ]
  },
  {
   "cell_type": "code",
   "execution_count": 0,
   "metadata": {
    "colab": {
     "base_uri": "https://localhost:8080/",
     "height": 69
    },
    "colab_type": "code",
    "id": "9mGx71hnfEcZ",
    "outputId": "dfb03865-c838-4042-8655-668afc5a6a6e"
   },
   "outputs": [
    {
     "name": "stdout",
     "output_type": "stream",
     "text": [
      "Downloading news-category-dataset.zip to /content\n",
      " 35% 9.00M/25.4M [00:00<00:01, 14.7MB/s]\n",
      "100% 25.4M/25.4M [00:00<00:00, 40.1MB/s]\n"
     ]
    }
   ],
   "source": [
    "!kaggle datasets download -d rmisra/news-category-dataset"
   ]
  },
  {
   "cell_type": "code",
   "execution_count": 0,
   "metadata": {
    "colab": {
     "base_uri": "https://localhost:8080/",
     "height": 34
    },
    "colab_type": "code",
    "id": "n-VXO48gfrfp",
    "outputId": "20843ae1-6998-4cd8-b348-f187970aa415"
   },
   "outputs": [
    {
     "name": "stdout",
     "output_type": "stream",
     "text": [
      "news-category-dataset.zip  sample_data\n"
     ]
    }
   ],
   "source": [
    "!ls"
   ]
  },
  {
   "cell_type": "code",
   "execution_count": 0,
   "metadata": {
    "colab": {
     "base_uri": "https://localhost:8080/",
     "height": 52
    },
    "colab_type": "code",
    "id": "qIWeqH3Qgjjw",
    "outputId": "9f35c0ff-1e72-4341-8d36-42b10caaeac5"
   },
   "outputs": [
    {
     "name": "stdout",
     "output_type": "stream",
     "text": [
      "Archive:  news-category-dataset.zip\n",
      "  inflating: News_Category_Dataset_v2.json  \n"
     ]
    }
   ],
   "source": [
    "!unzip news-category-dataset.zip"
   ]
  },
  {
   "cell_type": "code",
   "execution_count": 0,
   "metadata": {
    "colab": {
     "base_uri": "https://localhost:8080/",
     "height": 34
    },
    "colab_type": "code",
    "id": "1DHdwuYTgoP3",
    "outputId": "97a878f1-c87b-4fd6-80a7-b879dd17aa36"
   },
   "outputs": [
    {
     "name": "stdout",
     "output_type": "stream",
     "text": [
      "News_Category_Dataset_v2.json  news-category-dataset.zip  sample_data\n"
     ]
    }
   ],
   "source": [
    "!ls"
   ]
  },
  {
   "cell_type": "code",
   "execution_count": 0,
   "metadata": {
    "colab": {
     "base_uri": "https://localhost:8080/",
     "height": 69
    },
    "colab_type": "code",
    "id": "SmC-0um18nFL",
    "outputId": "1b255de8-9de1-4ca0-97d1-af1fddb8ceef"
   },
   "outputs": [
    {
     "name": "stdout",
     "output_type": "stream",
     "text": [
      "[nltk_data] Downloading package stopwords to /root/nltk_data...\n",
      "[nltk_data]   Unzipping corpora/stopwords.zip.\n"
     ]
    },
    {
     "data": {
      "text/plain": [
       "True"
      ]
     },
     "execution_count": 10,
     "metadata": {
      "tags": []
     },
     "output_type": "execute_result"
    }
   ],
   "source": [
    "import nltk\n",
    "nltk.download(\"stopwords\")"
   ]
  },
  {
   "cell_type": "code",
   "execution_count": 0,
   "metadata": {
    "colab": {},
    "colab_type": "code",
    "id": "ScXe789ogqw8"
   },
   "outputs": [],
   "source": [
    "# lets try to build a model to classify the news article into its group"
   ]
  },
  {
   "cell_type": "code",
   "execution_count": 0,
   "metadata": {
    "colab": {
     "base_uri": "https://localhost:8080/",
     "height": 34
    },
    "colab_type": "code",
    "id": "-7DJ4vVOhBWH",
    "outputId": "7118aec4-635d-4e25-b133-702701d6fc7f"
   },
   "outputs": [
    {
     "name": "stderr",
     "output_type": "stream",
     "text": [
      "Using TensorFlow backend.\n"
     ]
    }
   ],
   "source": [
    "import json\n",
    "import re\n",
    "from nltk.corpus import stopwords\n",
    "import numpy as np\n",
    "import pandas as pd\n",
    "import matplotlib.pyplot as plt\n",
    "%matplotlib inline\n",
    "\n",
    "from keras.preprocessing.text import Tokenizer\n",
    "from keras.preprocessing.sequence import pad_sequences\n",
    "from keras.utils import to_categorical\n",
    "from keras import regularizers\n",
    "\n",
    "from sklearn.model_selection import train_test_split\n",
    "from sklearn.preprocessing import LabelEncoder\n",
    "from sklearn.metrics import accuracy_score, confusion_matrix, classification_report\n",
    "from sklearn.feature_extraction.text import CountVectorizer, TfidfTransformer\n",
    "from sklearn.naive_bayes import MultinomialNB\n",
    "from sklearn.pipeline import Pipeline\n",
    "from sklearn.linear_model import SGDClassifier\n",
    "\n",
    "\n",
    "from keras.models import Sequential\n",
    "from keras.layers import Embedding\n",
    "from keras.layers import Flatten, Dense, Dropout\n",
    "from keras.layers import SimpleRNN\n",
    "from keras.layers import LSTM\n",
    "\n",
    "pd.set_option('display.max_colwidth', 200)"
   ]
  },
  {
   "cell_type": "code",
   "execution_count": 0,
   "metadata": {
    "colab": {},
    "colab_type": "code",
    "id": "Ks2eOpjjhSa-"
   },
   "outputs": [],
   "source": [
    "# reading the news dataset which is in json format"
   ]
  },
  {
   "cell_type": "code",
   "execution_count": 0,
   "metadata": {
    "colab": {},
    "colab_type": "code",
    "id": "pnDqejmkhX3w"
   },
   "outputs": [],
   "source": [
    "news_text = []\n",
    "news_label = []\n",
    "\n",
    "with open('News_Category_Dataset_v2.json') as file:\n",
    "    for news in file:\n",
    "        j_news = json.loads(news)\n",
    "        news_label.append(j_news['category'])\n",
    "        news_text.append(j_news['headline'] + ' ' + j_news['short_description'])        "
   ]
  },
  {
   "cell_type": "code",
   "execution_count": 0,
   "metadata": {
    "colab": {
     "base_uri": "https://localhost:8080/",
     "height": 34
    },
    "colab_type": "code",
    "id": "wfmyP-ZLhbLR",
    "outputId": "04a4ca14-be6a-4d5c-97ce-24eb58b6c436"
   },
   "outputs": [
    {
     "data": {
      "text/plain": [
       "(200853, 200853)"
      ]
     },
     "execution_count": 15,
     "metadata": {
      "tags": []
     },
     "output_type": "execute_result"
    }
   ],
   "source": [
    "len(news_label), len(news_text)"
   ]
  },
  {
   "cell_type": "code",
   "execution_count": 0,
   "metadata": {
    "colab": {},
    "colab_type": "code",
    "id": "f2wN52KNhn7A"
   },
   "outputs": [],
   "source": [
    "# we have 200853 news articles with their categories tagged."
   ]
  },
  {
   "cell_type": "code",
   "execution_count": 0,
   "metadata": {
    "colab": {},
    "colab_type": "code",
    "id": "o2_o-j4bhrxZ"
   },
   "outputs": [],
   "source": [
    "news_df = pd.DataFrame(data=list(zip(news_text, news_label)), columns=['text', 'cat'])"
   ]
  },
  {
   "cell_type": "code",
   "execution_count": 0,
   "metadata": {
    "colab": {
     "base_uri": "https://localhost:8080/",
     "height": 258
    },
    "colab_type": "code",
    "id": "AHvlsACHhuxw",
    "outputId": "d836022c-49a5-40ed-dbe3-7c34ceecac55"
   },
   "outputs": [
    {
     "data": {
      "text/html": [
       "<div>\n",
       "<style scoped>\n",
       "    .dataframe tbody tr th:only-of-type {\n",
       "        vertical-align: middle;\n",
       "    }\n",
       "\n",
       "    .dataframe tbody tr th {\n",
       "        vertical-align: top;\n",
       "    }\n",
       "\n",
       "    .dataframe thead th {\n",
       "        text-align: right;\n",
       "    }\n",
       "</style>\n",
       "<table border=\"1\" class=\"dataframe\">\n",
       "  <thead>\n",
       "    <tr style=\"text-align: right;\">\n",
       "      <th></th>\n",
       "      <th>text</th>\n",
       "      <th>cat</th>\n",
       "    </tr>\n",
       "  </thead>\n",
       "  <tbody>\n",
       "    <tr>\n",
       "      <th>0</th>\n",
       "      <td>There Were 2 Mass Shootings In Texas Last Week, But Only 1 On TV She left her husband. He killed their children. Just another day in America.</td>\n",
       "      <td>CRIME</td>\n",
       "    </tr>\n",
       "    <tr>\n",
       "      <th>1</th>\n",
       "      <td>Will Smith Joins Diplo And Nicky Jam For The 2018 World Cup's Official Song Of course it has a song.</td>\n",
       "      <td>ENTERTAINMENT</td>\n",
       "    </tr>\n",
       "    <tr>\n",
       "      <th>2</th>\n",
       "      <td>Hugh Grant Marries For The First Time At Age 57 The actor and his longtime girlfriend Anna Eberstein tied the knot in a civil ceremony.</td>\n",
       "      <td>ENTERTAINMENT</td>\n",
       "    </tr>\n",
       "    <tr>\n",
       "      <th>3</th>\n",
       "      <td>Jim Carrey Blasts 'Castrato' Adam Schiff And Democrats In New Artwork The actor gives Dems an ass-kicking for not fighting hard enough against Donald Trump.</td>\n",
       "      <td>ENTERTAINMENT</td>\n",
       "    </tr>\n",
       "    <tr>\n",
       "      <th>4</th>\n",
       "      <td>Julianna Margulies Uses Donald Trump Poop Bags To Pick Up After Her Dog The \"Dietland\" actress said using the bags is a \"really cathartic, therapeutic moment.\"</td>\n",
       "      <td>ENTERTAINMENT</td>\n",
       "    </tr>\n",
       "  </tbody>\n",
       "</table>\n",
       "</div>"
      ],
      "text/plain": [
       "                                                                                                                                                              text            cat\n",
       "0                    There Were 2 Mass Shootings In Texas Last Week, But Only 1 On TV She left her husband. He killed their children. Just another day in America.          CRIME\n",
       "1                                                             Will Smith Joins Diplo And Nicky Jam For The 2018 World Cup's Official Song Of course it has a song.  ENTERTAINMENT\n",
       "2                          Hugh Grant Marries For The First Time At Age 57 The actor and his longtime girlfriend Anna Eberstein tied the knot in a civil ceremony.  ENTERTAINMENT\n",
       "3     Jim Carrey Blasts 'Castrato' Adam Schiff And Democrats In New Artwork The actor gives Dems an ass-kicking for not fighting hard enough against Donald Trump.  ENTERTAINMENT\n",
       "4  Julianna Margulies Uses Donald Trump Poop Bags To Pick Up After Her Dog The \"Dietland\" actress said using the bags is a \"really cathartic, therapeutic moment.\"  ENTERTAINMENT"
      ]
     },
     "execution_count": 19,
     "metadata": {
      "tags": []
     },
     "output_type": "execute_result"
    }
   ],
   "source": [
    "news_df.head()"
   ]
  },
  {
   "cell_type": "code",
   "execution_count": 0,
   "metadata": {
    "colab": {},
    "colab_type": "code",
    "id": "Ns8DOYKQhxUw"
   },
   "outputs": [],
   "source": [
    "# lets have a look at the news categories and their distribution"
   ]
  },
  {
   "cell_type": "code",
   "execution_count": 0,
   "metadata": {
    "colab": {
     "base_uri": "https://localhost:8080/",
     "height": 746
    },
    "colab_type": "code",
    "id": "HrX6iqpjh5-u",
    "outputId": "3c24f893-c085-4f43-cdf8-8f3df03e0d25"
   },
   "outputs": [
    {
     "data": {
      "text/plain": [
       "POLITICS          32739\n",
       "WELLNESS          17827\n",
       "ENTERTAINMENT     16058\n",
       "TRAVEL             9887\n",
       "STYLE & BEAUTY     9649\n",
       "PARENTING          8677\n",
       "HEALTHY LIVING     6694\n",
       "QUEER VOICES       6314\n",
       "FOOD & DRINK       6226\n",
       "BUSINESS           5937\n",
       "COMEDY             5175\n",
       "SPORTS             4884\n",
       "BLACK VOICES       4528\n",
       "HOME & LIVING      4195\n",
       "PARENTS            3955\n",
       "THE WORLDPOST      3664\n",
       "WEDDINGS           3651\n",
       "WOMEN              3490\n",
       "IMPACT             3459\n",
       "DIVORCE            3426\n",
       "CRIME              3405\n",
       "MEDIA              2815\n",
       "WEIRD NEWS         2670\n",
       "GREEN              2622\n",
       "WORLDPOST          2579\n",
       "RELIGION           2556\n",
       "STYLE              2254\n",
       "SCIENCE            2178\n",
       "WORLD NEWS         2177\n",
       "TASTE              2096\n",
       "TECH               2082\n",
       "MONEY              1707\n",
       "ARTS               1509\n",
       "FIFTY              1401\n",
       "GOOD NEWS          1398\n",
       "ARTS & CULTURE     1339\n",
       "ENVIRONMENT        1323\n",
       "COLLEGE            1144\n",
       "LATINO VOICES      1129\n",
       "CULTURE & ARTS     1030\n",
       "EDUCATION          1004\n",
       "Name: cat, dtype: int64"
      ]
     },
     "execution_count": 21,
     "metadata": {
      "tags": []
     },
     "output_type": "execute_result"
    }
   ],
   "source": [
    "news_df[\"cat\"].value_counts()"
   ]
  },
  {
   "cell_type": "code",
   "execution_count": 0,
   "metadata": {
    "colab": {},
    "colab_type": "code",
    "id": "HcytXMG3h-y7"
   },
   "outputs": [],
   "source": [
    "# it looks like THE WORLDPOST and WORLDPOST are similar categories, so lets convert THE WORLDPOST to WORLDPOST\n",
    "news_df.loc[news_df[\"cat\"] == \"THE WORLDPOST\", \"cat\"] = \"WORLDPOST\""
   ]
  },
  {
   "cell_type": "code",
   "execution_count": 0,
   "metadata": {
    "colab": {},
    "colab_type": "code",
    "id": "hgXfIxsOlRcY"
   },
   "outputs": [],
   "source": [
    "# both 'ARTS & CULTURE' and 'CULTURE & ARTS' categories would represent the same kind of news, so lets convert them to a same tag.\n",
    "# also lets view the news with 'ARTS' tag and check whether they can be grouped into 'ARTS & CULTURE' category."
   ]
  },
  {
   "cell_type": "code",
   "execution_count": 0,
   "metadata": {
    "colab": {
     "base_uri": "https://localhost:8080/",
     "height": 141
    },
    "colab_type": "code",
    "id": "66OZccoHl6pg",
    "outputId": "ee78336d-eea3-42e9-9c74-f06e2ef7a762"
   },
   "outputs": [
    {
     "data": {
      "text/plain": [
       "6715    Modeling Agencies Enabled Sexual Predators For Years, Former Agent Says In the 1980s and '90s, Carolyn Kramer said she and her colleagues knew about allegedly predatory photographers, and sent the...\n",
       "7426    Actor Jeff Hiller Talks “Bright Colors And Bold Patterns” and More (AUDIO) This week I talked with actor Jeff Hiller about the hit Off Broadway play Bright Colors And Bold Patterns that he’ll be j...\n",
       "7698                                            New Yorker Cover Puts Trump 'In The Hole' After 'Racist' Comment The president reportedly referred to groups of immigrants as coming from \"shithole countries.\"\n",
       "7744                                                                                                              J. K. Rowling Trolls Trump For Canceled UK Visit With Clucking Great Emoji Not a scaredy-cat.\n",
       "7928                                                                                                     Man Surprises Girlfriend By Drawing Them In Different Animation Styles What a colorful Christmas gift.\n",
       "Name: text, dtype: object"
      ]
     },
     "execution_count": 24,
     "metadata": {
      "tags": []
     },
     "output_type": "execute_result"
    }
   ],
   "source": [
    "news_df[news_df['cat'] == 'ARTS & CULTURE']['text'].head()"
   ]
  },
  {
   "cell_type": "code",
   "execution_count": 0,
   "metadata": {
    "colab": {
     "base_uri": "https://localhost:8080/",
     "height": 141
    },
    "colab_type": "code",
    "id": "p5QM9C2PnXzL",
    "outputId": "9f9d8d11-82bd-4471-8791-df161ad2c73b"
   },
   "outputs": [
    {
     "data": {
      "text/plain": [
       "125440    First Nighter: Athol Fugard's Shadow..., Richard Maxwell's Isolde Although Athol Fugard turns 82 in June and his protagonist in The Shadow of the Hummingbird is already 84, the two-year difference...\n",
       "125441         Every Dance Move From A To Z Showcased In One Ridiculously Insane Video In this incredible video, a group of highly talented dancers demonstrates every dance style from A to Z on the rooftops of\n",
       "125442        'F*cking Tourist' Series Will Make You Think Twice About How You Travel Photographer Nicolas Demeersman makes the universal aversion to tourism very, very clear in his photography series \"Fucking\n",
       "125443                                  Stunning Photos Of A Homeless Boxer's Mansion See more photos on Slate. Even on a peninsula populated by handmade, ramshackle structures, Anderson’s place, half home and\n",
       "125518                          Raymond Pettibon's Surf Paintings Are Pure Punk Poetry In his current exhibition \"Are Your Motives Pure?\" Pettibon compiles surf-centric artworks from 1985 to 2013, ranging from\n",
       "Name: text, dtype: object"
      ]
     },
     "execution_count": 25,
     "metadata": {
      "tags": []
     },
     "output_type": "execute_result"
    }
   ],
   "source": [
    "news_df[news_df['cat'] == 'CULTURE & ARTS']['text'].head()"
   ]
  },
  {
   "cell_type": "code",
   "execution_count": 0,
   "metadata": {
    "colab": {
     "base_uri": "https://localhost:8080/",
     "height": 121
    },
    "colab_type": "code",
    "id": "q0U6VFnhnbnF",
    "outputId": "bbcebe48-663f-4d33-e582-5a34ad63d81a"
   },
   "outputs": [
    {
     "data": {
      "text/plain": [
       "36003    An Alert, Well-Hydrated Artist in No Acute Distress--Episode Thirty-Five: The Birth of a Book, the End of a Story \n",
       "37852                                                      Stage Door: Ute Lemper's Songs From The Broken Heart, Confucius \n",
       "38462                                                                                            Donna Quesada: Art Review \n",
       "38811                                                    Top 5 Sizzling Hot Winter Music Festivals in Frigid New York City \n",
       "38981                                                                          Defending their lives in 'Ride the Cyclone' \n",
       "Name: text, dtype: object"
      ]
     },
     "execution_count": 26,
     "metadata": {
      "tags": []
     },
     "output_type": "execute_result"
    }
   ],
   "source": [
    "news_df[news_df['cat'] == 'ARTS']['text'].head()"
   ]
  },
  {
   "cell_type": "code",
   "execution_count": 0,
   "metadata": {
    "colab": {},
    "colab_type": "code",
    "id": "DlD560h5neK0"
   },
   "outputs": [],
   "source": [
    "# it seems like the news with 'ARTS' tag is only about entertainment industry news , whereas the 'ARTS & CULTURE'\n",
    "# news tell about arts in society. I am going to keep 'ART' as a seperate category."
   ]
  },
  {
   "cell_type": "code",
   "execution_count": 0,
   "metadata": {
    "colab": {},
    "colab_type": "code",
    "id": "gDoj9okMnglK"
   },
   "outputs": [],
   "source": [
    "news_df.loc[news_df['cat'] == 'CULTURE & ARTS', 'cat'] = 'ARTS & CULTURE'"
   ]
  },
  {
   "cell_type": "code",
   "execution_count": 0,
   "metadata": {
    "colab": {
     "base_uri": "https://localhost:8080/",
     "height": 293
    },
    "colab_type": "code",
    "id": "ZOjKZDVyni9n",
    "outputId": "cd108653-098d-458a-ee67-fd6597461997"
   },
   "outputs": [
    {
     "data": {
      "image/png": "[encoded data removed]",
      "text/plain": [
       "<Figure size 1440x360 with 1 Axes>"
      ]
     },
     "metadata": {
      "needs_background": "light",
      "tags": []
     },
     "output_type": "display_data"
    }
   ],
   "source": [
    "news_count = news_df['cat'].value_counts()\n",
    "news_percent = [len(news_df[news_df['cat'] == news_cat]) / len(news_df) * 100 for news_cat in news_count.index]\n",
    "\n",
    "ax = news_count.plot(kind='bar', figsize=(20, 5))\n",
    "for idx, p in enumerate(ax.patches):\n",
    "    h = p.get_height()\n",
    "    x, y = p.get_xy()\n",
    "    ax.annotate('{:.1f}%'.format(news_percent[idx]), (x, y + h + 0.01))"
   ]
  },
  {
   "cell_type": "code",
   "execution_count": 0,
   "metadata": {
    "colab": {},
    "colab_type": "code",
    "id": "hzXn8DVnnpkd"
   },
   "outputs": [],
   "source": [
    "# from the above fig we can see that groups like 'EDUCATION', 'LATINO VOICES', 'COLLEGE' have very few examples \n",
    "# this may give us the problem of skewness or imbalanced classification. We will try to built a basic model to \n",
    "# check there is imbalanced classification problem and then use techniques like over sampling or under sampling \n",
    "# to tackle it."
   ]
  },
  {
   "cell_type": "code",
   "execution_count": 0,
   "metadata": {
    "colab": {},
    "colab_type": "code",
    "id": "lplQJYJ2n-dH"
   },
   "outputs": [],
   "source": [
    "# now lets do some text preprocessing"
   ]
  },
  {
   "cell_type": "code",
   "execution_count": 0,
   "metadata": {
    "colab": {},
    "colab_type": "code",
    "id": "c2Ld7ZT5oArH"
   },
   "outputs": [],
   "source": [
    "# lets do some text preprocessing\n",
    "REPLACE_BY_SPACE_RE = re.compile('[/(){}\\[\\]\\|@,;]')\n",
    "BAD_SYMBOLS_RE = re.compile('[^0-9a-z #+_]')\n",
    "STOPWORDS = set(stopwords.words('english'))"
   ]
  },
  {
   "cell_type": "code",
   "execution_count": 0,
   "metadata": {
    "colab": {},
    "colab_type": "code",
    "id": "kMgtXdagog07"
   },
   "outputs": [],
   "source": [
    "def clean_text(text):\n",
    "    \n",
    "    text = text.lower()\n",
    "    text = REPLACE_BY_SPACE_RE.sub(' ', text) # replace REPLACE_BY_SPACE_RE symbols by space in text\n",
    "    text = BAD_SYMBOLS_RE.sub('', text) # remove BAD_SYMBOLS_RE symbols in text\n",
    "    text = ' '.join(word for word in text.split(' ') if word not in STOPWORDS) # remove stopwords from text\n",
    "    \n",
    "    return text"
   ]
  },
  {
   "cell_type": "code",
   "execution_count": 0,
   "metadata": {
    "colab": {},
    "colab_type": "code",
    "id": "aXpzgKPPovy6"
   },
   "outputs": [],
   "source": [
    "news_df['text'] = news_df['text'].apply(clean_text)"
   ]
  },
  {
   "cell_type": "code",
   "execution_count": 0,
   "metadata": {
    "colab": {},
    "colab_type": "code",
    "id": "vG-csTqypGs5"
   },
   "outputs": [],
   "source": [
    "# tokenizing is the process of splitting the text into tokens. It create word_index for each token \n",
    "# which can be used to convert text sequence into integer sequence\n",
    "max_words = 10000\n",
    "tok = Tokenizer(num_words=max_words)\n",
    "tok.fit_on_texts(news_df['text'])\n",
    "sequence = tok.texts_to_sequences(news_df['text'])"
   ]
  },
  {
   "cell_type": "code",
   "execution_count": 0,
   "metadata": {
    "colab": {
     "base_uri": "https://localhost:8080/",
     "height": 34
    },
    "colab_type": "code",
    "id": "ODxufiZ1pULm",
    "outputId": "208a3e9f-f24f-4936-a038-be5bbc1146fc"
   },
   "outputs": [
    {
     "data": {
      "text/plain": [
       "200853"
      ]
     },
     "execution_count": 24,
     "metadata": {
      "tags": []
     },
     "output_type": "execute_result"
    }
   ],
   "source": [
    "len(sequence)"
   ]
  },
  {
   "cell_type": "code",
   "execution_count": 0,
   "metadata": {
    "colab": {
     "base_uri": "https://localhost:8080/",
     "height": 52
    },
    "colab_type": "code",
    "id": "iZrrIKEnpXNu",
    "outputId": "ce1faa8c-0132-4654-94f1-2932be44d875"
   },
   "outputs": [
    {
     "data": {
      "text/plain": [
       "('2 mass shootings texas last week  1 tv left husband killed children another day america',\n",
       " 15)"
      ]
     },
     "execution_count": 38,
     "metadata": {
      "tags": []
     },
     "output_type": "execute_result"
    }
   ],
   "source": [
    "# each of text in the news_df is converted to a sequence of words.\n",
    "news_df['text'][0], len(news_df['text'][0].split())"
   ]
  },
  {
   "cell_type": "code",
   "execution_count": 0,
   "metadata": {
    "colab": {
     "base_uri": "https://localhost:8080/",
     "height": 34
    },
    "colab_type": "code",
    "id": "jf_f3QOFpjyw",
    "outputId": "08d5dea1-ce2a-4e67-ebca-28ffa04120fa"
   },
   "outputs": [
    {
     "data": {
      "text/plain": [
       "([211, 1179, 2777, 563, 52, 30, 186, 342, 365, 564, 449, 65, 95, 9, 111], 15)"
      ]
     },
     "execution_count": 39,
     "metadata": {
      "tags": []
     },
     "output_type": "execute_result"
    }
   ],
   "source": [
    "sequence[0], len(sequence[0])"
   ]
  },
  {
   "cell_type": "code",
   "execution_count": 0,
   "metadata": {
    "colab": {
     "base_uri": "https://localhost:8080/",
     "height": 34
    },
    "colab_type": "code",
    "id": "-lJpys3Kpn93",
    "outputId": "20d52bd3-0f46-4556-b257-9ad7e3781bac"
   },
   "outputs": [
    {
     "data": {
      "text/plain": [
       "('smith joins diplo nicky jam 2018 world cups official song course song', 12)"
      ]
     },
     "execution_count": 40,
     "metadata": {
      "tags": []
     },
     "output_type": "execute_result"
    }
   ],
   "source": [
    "news_df['text'][1], len(news_df['text'][1].split())"
   ]
  },
  {
   "cell_type": "code",
   "execution_count": 0,
   "metadata": {
    "colab": {
     "base_uri": "https://localhost:8080/",
     "height": 34
    },
    "colab_type": "code",
    "id": "u2MaZxRzqp5v",
    "outputId": "a48ba08f-2d5a-4468-87c7-c3e763281a41"
   },
   "outputs": [
    {
     "data": {
      "text/plain": [
       "([1491, 2761, 5419, 2392, 15, 5878, 824, 835, 418, 835], 10)"
      ]
     },
     "execution_count": 41,
     "metadata": {
      "tags": []
     },
     "output_type": "execute_result"
    }
   ],
   "source": [
    "sequence[1], len(sequence[1])"
   ]
  },
  {
   "cell_type": "code",
   "execution_count": 0,
   "metadata": {
    "colab": {
     "base_uri": "https://localhost:8080/",
     "height": 34
    },
    "colab_type": "code",
    "id": "wwfkM_kLqsED",
    "outputId": "8d008dcc-99b2-4af1-e226-b3253a5b0e68"
   },
   "outputs": [
    {
     "name": "stdout",
     "output_type": "stream",
     "text": [
      "Found 112533 unique tokens.\n"
     ]
    }
   ],
   "source": [
    "word_index = tok.word_index\n",
    "print(f'Found { len(word_index) } unique tokens.')"
   ]
  },
  {
   "cell_type": "code",
   "execution_count": 0,
   "metadata": {
    "colab": {
     "base_uri": "https://localhost:8080/",
     "height": 258
    },
    "colab_type": "code",
    "id": "yoSsjM8aquhD",
    "outputId": "83bd5068-e6c5-40ec-fbaf-2dc80b0947e3"
   },
   "outputs": [
    {
     "data": {
      "text/html": [
       "<div>\n",
       "<style scoped>\n",
       "    .dataframe tbody tr th:only-of-type {\n",
       "        vertical-align: middle;\n",
       "    }\n",
       "\n",
       "    .dataframe tbody tr th {\n",
       "        vertical-align: top;\n",
       "    }\n",
       "\n",
       "    .dataframe thead th {\n",
       "        text-align: right;\n",
       "    }\n",
       "</style>\n",
       "<table border=\"1\" class=\"dataframe\">\n",
       "  <thead>\n",
       "    <tr style=\"text-align: right;\">\n",
       "      <th></th>\n",
       "      <th>text</th>\n",
       "      <th>cat</th>\n",
       "    </tr>\n",
       "  </thead>\n",
       "  <tbody>\n",
       "    <tr>\n",
       "      <th>0</th>\n",
       "      <td>2 mass shootings texas last week  1 tv left husband killed children another day america</td>\n",
       "      <td>CRIME</td>\n",
       "    </tr>\n",
       "    <tr>\n",
       "      <th>1</th>\n",
       "      <td>smith joins diplo nicky jam 2018 world cups official song course song</td>\n",
       "      <td>ENTERTAINMENT</td>\n",
       "    </tr>\n",
       "    <tr>\n",
       "      <th>2</th>\n",
       "      <td>hugh grant marries first time age 57 actor longtime girlfriend anna eberstein tied knot civil ceremony</td>\n",
       "      <td>ENTERTAINMENT</td>\n",
       "    </tr>\n",
       "    <tr>\n",
       "      <th>3</th>\n",
       "      <td>jim carrey blasts castrato adam schiff democrats new artwork actor gives dems asskicking fighting hard enough donald trump</td>\n",
       "      <td>ENTERTAINMENT</td>\n",
       "    </tr>\n",
       "    <tr>\n",
       "      <th>4</th>\n",
       "      <td>julianna margulies uses donald trump poop bags pick dog dietland actress said using bags really cathartic  therapeutic moment</td>\n",
       "      <td>ENTERTAINMENT</td>\n",
       "    </tr>\n",
       "  </tbody>\n",
       "</table>\n",
       "</div>"
      ],
      "text/plain": [
       "                                                                                                                            text            cat\n",
       "0                                        2 mass shootings texas last week  1 tv left husband killed children another day america          CRIME\n",
       "1                                                          smith joins diplo nicky jam 2018 world cups official song course song  ENTERTAINMENT\n",
       "2                         hugh grant marries first time age 57 actor longtime girlfriend anna eberstein tied knot civil ceremony  ENTERTAINMENT\n",
       "3     jim carrey blasts castrato adam schiff democrats new artwork actor gives dems asskicking fighting hard enough donald trump  ENTERTAINMENT\n",
       "4  julianna margulies uses donald trump poop bags pick dog dietland actress said using bags really cathartic  therapeutic moment  ENTERTAINMENT"
      ]
     },
     "execution_count": 43,
     "metadata": {
      "tags": []
     },
     "output_type": "execute_result"
    }
   ],
   "source": [
    "news_df.head()"
   ]
  },
  {
   "cell_type": "code",
   "execution_count": 0,
   "metadata": {
    "colab": {},
    "colab_type": "code",
    "id": "qtwXosr3qxDj"
   },
   "outputs": [],
   "source": [
    "# lets veiw the number of words in the articles on each new group\n",
    "news_df['word_seq'] = sequence\n",
    "news_df['num_words'] = news_df['word_seq'].str.len()"
   ]
  },
  {
   "cell_type": "code",
   "execution_count": 0,
   "metadata": {
    "colab": {
     "base_uri": "https://localhost:8080/",
     "height": 1000
    },
    "colab_type": "code",
    "id": "TR8ISqFOq2qy",
    "outputId": "6a678c07-2b51-47c8-c01a-401336e2bfe0"
   },
   "outputs": [
    {
     "data": {
      "text/html": [
       "<div>\n",
       "<style scoped>\n",
       "    .dataframe tbody tr th:only-of-type {\n",
       "        vertical-align: middle;\n",
       "    }\n",
       "\n",
       "    .dataframe tbody tr th {\n",
       "        vertical-align: top;\n",
       "    }\n",
       "\n",
       "    .dataframe thead th {\n",
       "        text-align: right;\n",
       "    }\n",
       "</style>\n",
       "<table border=\"1\" class=\"dataframe\">\n",
       "  <thead>\n",
       "    <tr style=\"text-align: right;\">\n",
       "      <th></th>\n",
       "      <th>num_words</th>\n",
       "    </tr>\n",
       "    <tr>\n",
       "      <th>cat</th>\n",
       "      <th></th>\n",
       "    </tr>\n",
       "  </thead>\n",
       "  <tbody>\n",
       "    <tr>\n",
       "      <th>ARTS</th>\n",
       "      <td>14.363154</td>\n",
       "    </tr>\n",
       "    <tr>\n",
       "      <th>ARTS &amp; CULTURE</th>\n",
       "      <td>14.275222</td>\n",
       "    </tr>\n",
       "    <tr>\n",
       "      <th>BLACK VOICES</th>\n",
       "      <td>14.802783</td>\n",
       "    </tr>\n",
       "    <tr>\n",
       "      <th>BUSINESS</th>\n",
       "      <td>16.416035</td>\n",
       "    </tr>\n",
       "    <tr>\n",
       "      <th>COLLEGE</th>\n",
       "      <td>16.311189</td>\n",
       "    </tr>\n",
       "    <tr>\n",
       "      <th>COMEDY</th>\n",
       "      <td>12.389565</td>\n",
       "    </tr>\n",
       "    <tr>\n",
       "      <th>CRIME</th>\n",
       "      <td>13.466960</td>\n",
       "    </tr>\n",
       "    <tr>\n",
       "      <th>DIVORCE</th>\n",
       "      <td>17.374781</td>\n",
       "    </tr>\n",
       "    <tr>\n",
       "      <th>EDUCATION</th>\n",
       "      <td>18.598606</td>\n",
       "    </tr>\n",
       "    <tr>\n",
       "      <th>ENTERTAINMENT</th>\n",
       "      <td>12.351227</td>\n",
       "    </tr>\n",
       "    <tr>\n",
       "      <th>ENVIRONMENT</th>\n",
       "      <td>18.223734</td>\n",
       "    </tr>\n",
       "    <tr>\n",
       "      <th>FIFTY</th>\n",
       "      <td>19.947181</td>\n",
       "    </tr>\n",
       "    <tr>\n",
       "      <th>FOOD &amp; DRINK</th>\n",
       "      <td>13.228236</td>\n",
       "    </tr>\n",
       "    <tr>\n",
       "      <th>GOOD NEWS</th>\n",
       "      <td>11.543634</td>\n",
       "    </tr>\n",
       "    <tr>\n",
       "      <th>GREEN</th>\n",
       "      <td>14.972921</td>\n",
       "    </tr>\n",
       "    <tr>\n",
       "      <th>HEALTHY LIVING</th>\n",
       "      <td>14.220795</td>\n",
       "    </tr>\n",
       "    <tr>\n",
       "      <th>HOME &amp; LIVING</th>\n",
       "      <td>15.483194</td>\n",
       "    </tr>\n",
       "    <tr>\n",
       "      <th>IMPACT</th>\n",
       "      <td>18.192252</td>\n",
       "    </tr>\n",
       "    <tr>\n",
       "      <th>LATINO VOICES</th>\n",
       "      <td>14.085917</td>\n",
       "    </tr>\n",
       "    <tr>\n",
       "      <th>MEDIA</th>\n",
       "      <td>13.644405</td>\n",
       "    </tr>\n",
       "    <tr>\n",
       "      <th>MONEY</th>\n",
       "      <td>19.370826</td>\n",
       "    </tr>\n",
       "    <tr>\n",
       "      <th>PARENTING</th>\n",
       "      <td>18.779993</td>\n",
       "    </tr>\n",
       "    <tr>\n",
       "      <th>PARENTS</th>\n",
       "      <td>14.629836</td>\n",
       "    </tr>\n",
       "    <tr>\n",
       "      <th>POLITICS</th>\n",
       "      <td>14.900699</td>\n",
       "    </tr>\n",
       "    <tr>\n",
       "      <th>QUEER VOICES</th>\n",
       "      <td>15.627970</td>\n",
       "    </tr>\n",
       "    <tr>\n",
       "      <th>RELIGION</th>\n",
       "      <td>13.495305</td>\n",
       "    </tr>\n",
       "    <tr>\n",
       "      <th>SCIENCE</th>\n",
       "      <td>13.581726</td>\n",
       "    </tr>\n",
       "    <tr>\n",
       "      <th>SPORTS</th>\n",
       "      <td>12.772932</td>\n",
       "    </tr>\n",
       "    <tr>\n",
       "      <th>STYLE</th>\n",
       "      <td>9.828749</td>\n",
       "    </tr>\n",
       "    <tr>\n",
       "      <th>STYLE &amp; BEAUTY</th>\n",
       "      <td>17.280444</td>\n",
       "    </tr>\n",
       "    <tr>\n",
       "      <th>TASTE</th>\n",
       "      <td>11.736641</td>\n",
       "    </tr>\n",
       "    <tr>\n",
       "      <th>TECH</th>\n",
       "      <td>14.682517</td>\n",
       "    </tr>\n",
       "    <tr>\n",
       "      <th>TRAVEL</th>\n",
       "      <td>17.244462</td>\n",
       "    </tr>\n",
       "    <tr>\n",
       "      <th>WEDDINGS</th>\n",
       "      <td>18.171734</td>\n",
       "    </tr>\n",
       "    <tr>\n",
       "      <th>WEIRD NEWS</th>\n",
       "      <td>9.799251</td>\n",
       "    </tr>\n",
       "    <tr>\n",
       "      <th>WELLNESS</th>\n",
       "      <td>19.095698</td>\n",
       "    </tr>\n",
       "    <tr>\n",
       "      <th>WOMEN</th>\n",
       "      <td>14.676504</td>\n",
       "    </tr>\n",
       "    <tr>\n",
       "      <th>WORLD NEWS</th>\n",
       "      <td>14.441893</td>\n",
       "    </tr>\n",
       "    <tr>\n",
       "      <th>WORLDPOST</th>\n",
       "      <td>14.502803</td>\n",
       "    </tr>\n",
       "  </tbody>\n",
       "</table>\n",
       "</div>"
      ],
      "text/plain": [
       "                num_words\n",
       "cat                      \n",
       "ARTS            14.363154\n",
       "ARTS & CULTURE  14.275222\n",
       "BLACK VOICES    14.802783\n",
       "BUSINESS        16.416035\n",
       "COLLEGE         16.311189\n",
       "COMEDY          12.389565\n",
       "CRIME           13.466960\n",
       "DIVORCE         17.374781\n",
       "EDUCATION       18.598606\n",
       "ENTERTAINMENT   12.351227\n",
       "ENVIRONMENT     18.223734\n",
       "FIFTY           19.947181\n",
       "FOOD & DRINK    13.228236\n",
       "GOOD NEWS       11.543634\n",
       "GREEN           14.972921\n",
       "HEALTHY LIVING  14.220795\n",
       "HOME & LIVING   15.483194\n",
       "IMPACT          18.192252\n",
       "LATINO VOICES   14.085917\n",
       "MEDIA           13.644405\n",
       "MONEY           19.370826\n",
       "PARENTING       18.779993\n",
       "PARENTS         14.629836\n",
       "POLITICS        14.900699\n",
       "QUEER VOICES    15.627970\n",
       "RELIGION        13.495305\n",
       "SCIENCE         13.581726\n",
       "SPORTS          12.772932\n",
       "STYLE            9.828749\n",
       "STYLE & BEAUTY  17.280444\n",
       "TASTE           11.736641\n",
       "TECH            14.682517\n",
       "TRAVEL          17.244462\n",
       "WEDDINGS        18.171734\n",
       "WEIRD NEWS       9.799251\n",
       "WELLNESS        19.095698\n",
       "WOMEN           14.676504\n",
       "WORLD NEWS      14.441893\n",
       "WORLDPOST       14.502803"
      ]
     },
     "execution_count": 35,
     "metadata": {
      "tags": []
     },
     "output_type": "execute_result"
    }
   ],
   "source": [
    "news_df.groupby('cat').mean()"
   ]
  },
  {
   "cell_type": "code",
   "execution_count": 0,
   "metadata": {
    "colab": {
     "base_uri": "https://localhost:8080/",
     "height": 729
    },
    "colab_type": "code",
    "id": "9pLrhw9Bq5Ey",
    "outputId": "f4e78b49-e15c-4c64-ec15-55cceb70b715"
   },
   "outputs": [
    {
     "data": {
      "text/plain": [
       "cat\n",
       "ARTS              1\n",
       "ARTS & CULTURE    1\n",
       "BLACK VOICES      0\n",
       "BUSINESS          0\n",
       "COLLEGE           0\n",
       "COMEDY            0\n",
       "CRIME             0\n",
       "DIVORCE           4\n",
       "EDUCATION         1\n",
       "ENTERTAINMENT     0\n",
       "ENVIRONMENT       5\n",
       "FIFTY             0\n",
       "FOOD & DRINK      2\n",
       "GOOD NEWS         0\n",
       "GREEN             0\n",
       "HEALTHY LIVING    0\n",
       "HOME & LIVING     2\n",
       "IMPACT            0\n",
       "LATINO VOICES     1\n",
       "MEDIA             0\n",
       "MONEY             8\n",
       "PARENTING         1\n",
       "PARENTS           1\n",
       "POLITICS          0\n",
       "QUEER VOICES      0\n",
       "RELIGION          0\n",
       "SCIENCE           0\n",
       "SPORTS            1\n",
       "STYLE             0\n",
       "STYLE & BEAUTY    1\n",
       "TASTE             0\n",
       "TECH              2\n",
       "TRAVEL            0\n",
       "WEDDINGS          5\n",
       "WEIRD NEWS        0\n",
       "WELLNESS          2\n",
       "WOMEN             0\n",
       "WORLD NEWS        3\n",
       "WORLDPOST         0\n",
       "Name: num_words, dtype: int64"
      ]
     },
     "execution_count": 46,
     "metadata": {
      "tags": []
     },
     "output_type": "execute_result"
    }
   ],
   "source": [
    "news_df.groupby('cat')['num_words'].min()"
   ]
  },
  {
   "cell_type": "code",
   "execution_count": 0,
   "metadata": {
    "colab": {
     "base_uri": "https://localhost:8080/",
     "height": 493
    },
    "colab_type": "code",
    "id": "-08aPA1vq-oe",
    "outputId": "cc9b843d-ae4c-414e-a5c7-55d92d06ec0e"
   },
   "outputs": [
    {
     "data": {
      "text/html": [
       "<div>\n",
       "<style scoped>\n",
       "    .dataframe tbody tr th:only-of-type {\n",
       "        vertical-align: middle;\n",
       "    }\n",
       "\n",
       "    .dataframe tbody tr th {\n",
       "        vertical-align: top;\n",
       "    }\n",
       "\n",
       "    .dataframe thead th {\n",
       "        text-align: right;\n",
       "    }\n",
       "</style>\n",
       "<table border=\"1\" class=\"dataframe\">\n",
       "  <thead>\n",
       "    <tr style=\"text-align: right;\">\n",
       "      <th></th>\n",
       "      <th>text</th>\n",
       "      <th>cat</th>\n",
       "      <th>word_seq</th>\n",
       "      <th>num_words</th>\n",
       "    </tr>\n",
       "  </thead>\n",
       "  <tbody>\n",
       "    <tr>\n",
       "      <th>557</th>\n",
       "      <td>yanny laurel heres real answer drumroll</td>\n",
       "      <td>WEIRD NEWS</td>\n",
       "      <td>[116, 101, 735]</td>\n",
       "      <td>3</td>\n",
       "    </tr>\n",
       "    <tr>\n",
       "      <th>1486</th>\n",
       "      <td>watch paddleboarder get straightup wrecked dolphin dolphinately porpoise</td>\n",
       "      <td>WEIRD NEWS</td>\n",
       "      <td>[112, 10]</td>\n",
       "      <td>2</td>\n",
       "    </tr>\n",
       "    <tr>\n",
       "      <th>4871</th>\n",
       "      <td>pentagon devours budget normalizing budgetary bloat</td>\n",
       "      <td>POLITICS</td>\n",
       "      <td>[4712, 903]</td>\n",
       "      <td>2</td>\n",
       "    </tr>\n",
       "    <tr>\n",
       "      <th>6637</th>\n",
       "      <td>leaping kangaroo smashes unsuspecting cyclist australia kangaroo hopped away  apparently unscathed</td>\n",
       "      <td>WEIRD NEWS</td>\n",
       "      <td>[2461, 175, 1305]</td>\n",
       "      <td>3</td>\n",
       "    </tr>\n",
       "    <tr>\n",
       "      <th>7142</th>\n",
       "      <td>doughnuteating champ arrested doughnut shop breakin doh</td>\n",
       "      <td>CRIME</td>\n",
       "      <td>[8677, 953, 1340]</td>\n",
       "      <td>3</td>\n",
       "    </tr>\n",
       "    <tr>\n",
       "      <th>...</th>\n",
       "      <td>...</td>\n",
       "      <td>...</td>\n",
       "      <td>...</td>\n",
       "      <td>...</td>\n",
       "    </tr>\n",
       "    <tr>\n",
       "      <th>191350</th>\n",
       "      <td>conversation designer bibhu mohapatra</td>\n",
       "      <td>STYLE &amp; BEAUTY</td>\n",
       "      <td>[746, 1057]</td>\n",
       "      <td>2</td>\n",
       "    </tr>\n",
       "    <tr>\n",
       "      <th>191905</th>\n",
       "      <td>mothertomother real mothers</td>\n",
       "      <td>PARENTING</td>\n",
       "      <td>[101, 424]</td>\n",
       "      <td>2</td>\n",
       "    </tr>\n",
       "    <tr>\n",
       "      <th>192309</th>\n",
       "      <td>defense london olympics</td>\n",
       "      <td>COMEDY</td>\n",
       "      <td>[1320, 750, 1217]</td>\n",
       "      <td>3</td>\n",
       "    </tr>\n",
       "    <tr>\n",
       "      <th>193389</th>\n",
       "      <td>brazilian decor</td>\n",
       "      <td>HOME &amp; LIVING</td>\n",
       "      <td>[5443, 3051]</td>\n",
       "      <td>2</td>\n",
       "    </tr>\n",
       "    <tr>\n",
       "      <th>194036</th>\n",
       "      <td>video reclaimed design inspiration</td>\n",
       "      <td>HOME &amp; LIVING</td>\n",
       "      <td>[18, 1106, 1329]</td>\n",
       "      <td>3</td>\n",
       "    </tr>\n",
       "  </tbody>\n",
       "</table>\n",
       "<p>3298 rows × 4 columns</p>\n",
       "</div>"
      ],
      "text/plain": [
       "                                                                                                      text  ... num_words\n",
       "557                                                                yanny laurel heres real answer drumroll  ...         3\n",
       "1486                              watch paddleboarder get straightup wrecked dolphin dolphinately porpoise  ...         2\n",
       "4871                                                   pentagon devours budget normalizing budgetary bloat  ...         2\n",
       "6637    leaping kangaroo smashes unsuspecting cyclist australia kangaroo hopped away  apparently unscathed  ...         3\n",
       "7142                                               doughnuteating champ arrested doughnut shop breakin doh  ...         3\n",
       "...                                                                                                    ...  ...       ...\n",
       "191350                                                              conversation designer bibhu mohapatra   ...         2\n",
       "191905                                                                         mothertomother real mothers  ...         2\n",
       "192309                                                                            defense london olympics   ...         3\n",
       "193389                                                                                    brazilian decor   ...         2\n",
       "194036                                                                 video reclaimed design inspiration   ...         3\n",
       "\n",
       "[3298 rows x 4 columns]"
      ]
     },
     "execution_count": 64,
     "metadata": {
      "tags": []
     },
     "output_type": "execute_result"
    }
   ],
   "source": [
    "# its seems like some articles does not have complete text\n",
    "news_df[news_df['num_words'] <= 3]"
   ]
  },
  {
   "cell_type": "code",
   "execution_count": 0,
   "metadata": {
    "colab": {
     "base_uri": "https://localhost:8080/",
     "height": 34
    },
    "colab_type": "code",
    "id": "Hpdgd8D3rBQb",
    "outputId": "b42e01ac-d94e-42d7-9b18-42d582812bf6"
   },
   "outputs": [
    {
     "data": {
      "text/plain": [
       "3298"
      ]
     },
     "execution_count": 65,
     "metadata": {
      "tags": []
     },
     "output_type": "execute_result"
    }
   ],
   "source": [
    "len(news_df[news_df['num_words'] <= 3])"
   ]
  },
  {
   "cell_type": "code",
   "execution_count": 0,
   "metadata": {
    "colab": {},
    "colab_type": "code",
    "id": "pObcDpv9rDso"
   },
   "outputs": [],
   "source": [
    "# articles having few words are not providing sufficient information for classifying it into any group. \n",
    "# also the number of such samples is less, so we can just not consider them\n",
    "news_df = news_df[news_df['num_words'] > 3]"
   ]
  },
  {
   "cell_type": "code",
   "execution_count": 0,
   "metadata": {
    "colab": {},
    "colab_type": "code",
    "id": "PkGkrHvxrFwh"
   },
   "outputs": [],
   "source": [
    "x_train, x_test, y_train, y_test = train_test_split(news_df['text'], news_df['cat'], test_size=0.3, random_state=33)"
   ]
  },
  {
   "cell_type": "code",
   "execution_count": 0,
   "metadata": {
    "colab": {},
    "colab_type": "code",
    "id": "eKmozPBMrJaE"
   },
   "outputs": [],
   "source": [
    "# lets try our first baseline model using Naive Bayes Classifier"
   ]
  },
  {
   "cell_type": "code",
   "execution_count": 0,
   "metadata": {
    "colab": {
     "base_uri": "https://localhost:8080/",
     "height": 888
    },
    "colab_type": "code",
    "id": "kCPNZtVIrNf_",
    "outputId": "6b5b34ef-5919-4cbe-9c4f-7e9843e623ca"
   },
   "outputs": [
    {
     "name": "stdout",
     "output_type": "stream",
     "text": [
      "accuracy 0.3928830546509862 : \n"
     ]
    },
    {
     "name": "stderr",
     "output_type": "stream",
     "text": [
      "/usr/local/lib/python3.6/dist-packages/sklearn/metrics/_classification.py:1272: UndefinedMetricWarning: Precision and F-score are ill-defined and being set to 0.0 in labels with no predicted samples. Use `zero_division` parameter to control this behavior.\n",
      "  _warn_prf(average, modifier, msg_start, len(result))\n"
     ]
    },
    {
     "name": "stdout",
     "output_type": "stream",
     "text": [
      "                precision    recall  f1-score   support\n",
      "\n",
      "          ARTS       0.00      0.00      0.00       408\n",
      "ARTS & CULTURE       1.00      0.00      0.00       681\n",
      "  BLACK VOICES       0.00      0.00      0.00      1261\n",
      "      BUSINESS       0.85      0.02      0.03      1728\n",
      "       COLLEGE       0.00      0.00      0.00       367\n",
      "        COMEDY       1.00      0.00      0.01      1436\n",
      "         CRIME       0.76      0.01      0.03       987\n",
      "       DIVORCE       1.00      0.04      0.08      1049\n",
      "     EDUCATION       0.00      0.00      0.00       311\n",
      " ENTERTAINMENT       0.50      0.72      0.59      4797\n",
      "   ENVIRONMENT       0.00      0.00      0.00       425\n",
      "         FIFTY       0.00      0.00      0.00       406\n",
      "  FOOD & DRINK       0.72      0.41      0.53      1900\n",
      "     GOOD NEWS       0.00      0.00      0.00       394\n",
      "         GREEN       0.00      0.00      0.00       750\n",
      "HEALTHY LIVING       1.00      0.00      0.00      1913\n",
      " HOME & LIVING       0.96      0.13      0.23      1255\n",
      "        IMPACT       0.00      0.00      0.00      1030\n",
      " LATINO VOICES       0.00      0.00      0.00       337\n",
      "         MEDIA       0.00      0.00      0.00       860\n",
      "         MONEY       0.00      0.00      0.00       533\n",
      "     PARENTING       0.54      0.18      0.27      2593\n",
      "       PARENTS       1.00      0.01      0.02      1179\n",
      "      POLITICS       0.31      0.99      0.47      9631\n",
      "  QUEER VOICES       0.94      0.07      0.13      1925\n",
      "      RELIGION       1.00      0.00      0.00       720\n",
      "       SCIENCE       1.00      0.01      0.01       628\n",
      "        SPORTS       0.94      0.09      0.17      1413\n",
      "         STYLE       0.00      0.00      0.00       660\n",
      "STYLE & BEAUTY       0.69      0.68      0.68      2848\n",
      "         TASTE       0.00      0.00      0.00       601\n",
      "          TECH       1.00      0.01      0.02       622\n",
      "        TRAVEL       0.74      0.55      0.63      2936\n",
      "      WEDDINGS       0.94      0.13      0.23      1136\n",
      "    WEIRD NEWS       0.00      0.00      0.00       788\n",
      "      WELLNESS       0.33      0.88      0.48      5282\n",
      "         WOMEN       1.00      0.03      0.05      1011\n",
      "    WORLD NEWS       0.00      0.00      0.00       635\n",
      "     WORLDPOST       0.83      0.07      0.13      1831\n",
      "\n",
      "      accuracy                           0.39     59267\n",
      "     macro avg       0.49      0.13      0.12     59267\n",
      "  weighted avg       0.55      0.39      0.29     59267\n",
      "\n"
     ]
    }
   ],
   "source": [
    "nb = Pipeline([\n",
    "    ('vect', CountVectorizer()),\n",
    "    ('tfidf', TfidfTransformer()),\n",
    "    ('clf', MultinomialNB())\n",
    "])\n",
    "\n",
    "nb.fit(x_train, y_train)\n",
    "y_pred = nb.predict(x_test)\n",
    "\n",
    "print('accuracy %s : '% accuracy_score(y_pred, y_test))\n",
    "print(classification_report(y_test, y_pred))"
   ]
  },
  {
   "cell_type": "code",
   "execution_count": 0,
   "metadata": {
    "colab": {},
    "colab_type": "code",
    "id": "nfwPKu5TrZO8"
   },
   "outputs": [],
   "source": [
    "# Naive_bayes classification gives us an accuracy of 39%. With this as base benchmark lets try improving accuracy\n",
    "# using other models"
   ]
  },
  {
   "cell_type": "code",
   "execution_count": 0,
   "metadata": {
    "colab": {},
    "colab_type": "code",
    "id": "TE4Dscbsrgjo"
   },
   "outputs": [],
   "source": [
    "# Linear Support Vector Machine"
   ]
  },
  {
   "cell_type": "code",
   "execution_count": 0,
   "metadata": {
    "colab": {
     "base_uri": "https://localhost:8080/",
     "height": 833
    },
    "colab_type": "code",
    "id": "OVY0LlNVriqG",
    "outputId": "c7915f6a-d25c-4f13-aaea-84331e974349"
   },
   "outputs": [
    {
     "name": "stdout",
     "output_type": "stream",
     "text": [
      "accuracy 0.5595862790423001 : \n",
      "                precision    recall  f1-score   support\n",
      "\n",
      "          ARTS       0.28      0.09      0.14       408\n",
      "ARTS & CULTURE       0.41      0.23      0.30       681\n",
      "  BLACK VOICES       0.49      0.25      0.33      1261\n",
      "      BUSINESS       0.50      0.33      0.40      1728\n",
      "       COLLEGE       0.45      0.23      0.31       367\n",
      "        COMEDY       0.47      0.19      0.28      1436\n",
      "         CRIME       0.54      0.43      0.48       987\n",
      "       DIVORCE       0.74      0.74      0.74      1049\n",
      "     EDUCATION       0.50      0.20      0.29       311\n",
      " ENTERTAINMENT       0.60      0.69      0.64      4797\n",
      "   ENVIRONMENT       0.44      0.15      0.22       425\n",
      "         FIFTY       0.36      0.14      0.20       406\n",
      "  FOOD & DRINK       0.57      0.72      0.64      1900\n",
      "     GOOD NEWS       0.30      0.12      0.17       394\n",
      "         GREEN       0.41      0.19      0.26       750\n",
      "HEALTHY LIVING       0.36      0.06      0.11      1913\n",
      " HOME & LIVING       0.64      0.63      0.63      1255\n",
      "        IMPACT       0.45      0.17      0.25      1030\n",
      " LATINO VOICES       0.59      0.19      0.28       337\n",
      "         MEDIA       0.56      0.24      0.33       860\n",
      "         MONEY       0.53      0.23      0.32       533\n",
      "     PARENTING       0.52      0.53      0.53      2593\n",
      "       PARENTS       0.38      0.08      0.13      1179\n",
      "      POLITICS       0.54      0.92      0.68      9631\n",
      "  QUEER VOICES       0.71      0.67      0.69      1925\n",
      "      RELIGION       0.57      0.37      0.45       720\n",
      "       SCIENCE       0.60      0.37      0.45       628\n",
      "        SPORTS       0.68      0.65      0.66      1413\n",
      "         STYLE       0.30      0.04      0.07       660\n",
      "STYLE & BEAUTY       0.56      0.81      0.66      2848\n",
      "         TASTE       0.18      0.03      0.06       601\n",
      "          TECH       0.57      0.33      0.42       622\n",
      "        TRAVEL       0.62      0.77      0.69      2936\n",
      "      WEDDINGS       0.72      0.79      0.75      1136\n",
      "    WEIRD NEWS       0.42      0.15      0.22       788\n",
      "      WELLNESS       0.52      0.80      0.63      5282\n",
      "         WOMEN       0.40      0.18      0.25      1011\n",
      "    WORLD NEWS       0.46      0.08      0.13       635\n",
      "     WORLDPOST       0.59      0.39      0.47      1831\n",
      "\n",
      "      accuracy                           0.56     59267\n",
      "     macro avg       0.50      0.36      0.39     59267\n",
      "  weighted avg       0.54      0.56      0.51     59267\n",
      "\n"
     ]
    }
   ],
   "source": [
    "sgd = Pipeline([\n",
    "    ('vect', CountVectorizer()),\n",
    "    ('tfidf', TfidfTransformer()),\n",
    "    ('clf', SGDClassifier(loss='hinge', penalty='l2', alpha=1e-3, random_state=42, max_iter=5, tol=None))\n",
    "])\n",
    "\n",
    "sgd.fit(x_train, y_train)\n",
    "y_pred = sgd.predict(x_test)\n",
    "\n",
    "print('accuracy %s : ' % accuracy_score(y_pred, y_test))\n",
    "print(classification_report(y_test, y_pred))"
   ]
  },
  {
   "cell_type": "code",
   "execution_count": 0,
   "metadata": {
    "colab": {},
    "colab_type": "code",
    "id": "ZWmbillJrk-N"
   },
   "outputs": [],
   "source": [
    "# deep learning model"
   ]
  },
  {
   "cell_type": "code",
   "execution_count": 0,
   "metadata": {
    "colab": {
     "base_uri": "https://localhost:8080/",
     "height": 173
    },
    "colab_type": "code",
    "id": "93feMQUxxaAV",
    "outputId": "98964e41-fb0b-4d3c-818c-1a15b6cb2857"
   },
   "outputs": [
    {
     "data": {
      "text/plain": [
       "count    197555.000000\n",
       "mean         15.549862\n",
       "std           6.558696\n",
       "min           4.000000\n",
       "25%          11.000000\n",
       "50%          15.000000\n",
       "75%          19.000000\n",
       "max         127.000000\n",
       "Name: num_words, dtype: float64"
      ]
     },
     "execution_count": 50,
     "metadata": {
      "tags": []
     },
     "output_type": "execute_result"
    }
   ],
   "source": [
    "news_df['num_words'].describe()"
   ]
  },
  {
   "cell_type": "code",
   "execution_count": 0,
   "metadata": {
    "colab": {},
    "colab_type": "code",
    "id": "JBApQZj_xc4X"
   },
   "outputs": [],
   "source": [
    "# our model expects the lenght of all sequence to be same. Now the lenght of the sequences are different corresponding\n",
    "# to the length of the actual text. We can generalize it to a specific length of 60 by padding.\n",
    "max_len = 30\n",
    "data = pad_sequences(news_df['word_seq'], maxlen=max_len)"
   ]
  },
  {
   "cell_type": "code",
   "execution_count": 0,
   "metadata": {
    "colab": {
     "base_uri": "https://localhost:8080/",
     "height": 69
    },
    "colab_type": "code",
    "id": "BhWPd39VxfaB",
    "outputId": "92731f9c-9057-4db7-dfa7-d6f9da99d5e0"
   },
   "outputs": [
    {
     "data": {
      "text/plain": [
       "array([   0,    0,    0,    0,    0,    0,    0,    0,    0,    0,    0,\n",
       "          0,    0,    0,    0,  211, 1179, 2777,  563,   52,   30,  186,\n",
       "        342,  365,  564,  449,   65,   95,    9,  111], dtype=int32)"
      ]
     },
     "execution_count": 28,
     "metadata": {
      "tags": []
     },
     "output_type": "execute_result"
    }
   ],
   "source": [
    "data[0]"
   ]
  },
  {
   "cell_type": "code",
   "execution_count": 0,
   "metadata": {
    "colab": {},
    "colab_type": "code",
    "id": "HvPjVCdKxiGG"
   },
   "outputs": [],
   "source": [
    "# one hot encode the labels\n",
    "encoder = LabelEncoder()\n",
    "encoder.fit(news_df['cat'])\n",
    "labels = encoder.transform(news_df['cat'])\n",
    "n_classes = max(labels) + 1\n",
    "labels = to_categorical(labels, n_classes)"
   ]
  },
  {
   "cell_type": "code",
   "execution_count": 0,
   "metadata": {
    "colab": {
     "base_uri": "https://localhost:8080/",
     "height": 34
    },
    "colab_type": "code",
    "id": "rp5yD6cLxrlg",
    "outputId": "569656ea-e878-4454-b3f8-cf9e8a02a58e"
   },
   "outputs": [
    {
     "data": {
      "text/plain": [
       "(197555, 39)"
      ]
     },
     "execution_count": 30,
     "metadata": {
      "tags": []
     },
     "output_type": "execute_result"
    }
   ],
   "source": [
    "labels.shape"
   ]
  },
  {
   "cell_type": "code",
   "execution_count": 0,
   "metadata": {
    "colab": {},
    "colab_type": "code",
    "id": "UxOpjalRxuHu"
   },
   "outputs": [],
   "source": [
    "# split the data into train, validation and test sets"
   ]
  },
  {
   "cell_type": "code",
   "execution_count": 0,
   "metadata": {
    "colab": {},
    "colab_type": "code",
    "id": "6TqQTD1zxwr2"
   },
   "outputs": [],
   "source": [
    "x_train, x_test, y_train, y_test = train_test_split(data, labels, test_size=0.3, random_state=20)"
   ]
  },
  {
   "cell_type": "code",
   "execution_count": 0,
   "metadata": {
    "colab": {
     "base_uri": "https://localhost:8080/",
     "height": 34
    },
    "colab_type": "code",
    "id": "dpmpE-5ox0FP",
    "outputId": "72152d64-9a20-48a8-e513-acb8ad768ce1"
   },
   "outputs": [
    {
     "data": {
      "text/plain": [
       "((138288, 30), (59267, 30))"
      ]
     },
     "execution_count": 33,
     "metadata": {
      "tags": []
     },
     "output_type": "execute_result"
    }
   ],
   "source": [
    "x_train.shape, x_test.shape"
   ]
  },
  {
   "cell_type": "code",
   "execution_count": 0,
   "metadata": {
    "colab": {},
    "colab_type": "code",
    "id": "RmnavV9bx2r-"
   },
   "outputs": [],
   "source": [
    "x_train, x_val, y_train, y_val = train_test_split(x_train, y_train, test_size=0.2, random_state=20)"
   ]
  },
  {
   "cell_type": "code",
   "execution_count": 0,
   "metadata": {
    "colab": {
     "base_uri": "https://localhost:8080/",
     "height": 34
    },
    "colab_type": "code",
    "id": "_xF9MfrWx51J",
    "outputId": "2bfa524e-f216-4a5e-97a2-30075f269daa"
   },
   "outputs": [
    {
     "data": {
      "text/plain": [
       "((110630, 30), (27658, 30))"
      ]
     },
     "execution_count": 35,
     "metadata": {
      "tags": []
     },
     "output_type": "execute_result"
    }
   ],
   "source": [
    "x_train.shape, x_val.shape"
   ]
  },
  {
   "cell_type": "code",
   "execution_count": 0,
   "metadata": {
    "colab": {},
    "colab_type": "code",
    "id": "y4i821OYx8qx"
   },
   "outputs": [],
   "source": [
    "# building a basic and cheap model\n",
    "\n",
    "model = Sequential()\n",
    "model.add(Embedding(max_words, 64, input_length=max_len))\n",
    "model.add(Flatten())\n",
    "model.add(Dense(64, activation='relu'))\n",
    "model.add(Dense(n_classes, activation='softmax'))"
   ]
  },
  {
   "cell_type": "code",
   "execution_count": 0,
   "metadata": {
    "colab": {
     "base_uri": "https://localhost:8080/",
     "height": 295
    },
    "colab_type": "code",
    "id": "eKEcvLNFyDNa",
    "outputId": "9a44d151-31d4-4697-a874-0eb0b12541cb"
   },
   "outputs": [
    {
     "name": "stdout",
     "output_type": "stream",
     "text": [
      "Model: \"sequential_4\"\n",
      "_________________________________________________________________\n",
      "Layer (type)                 Output Shape              Param #   \n",
      "=================================================================\n",
      "embedding_4 (Embedding)      (None, 30, 64)            640000    \n",
      "_________________________________________________________________\n",
      "flatten_4 (Flatten)          (None, 1920)              0         \n",
      "_________________________________________________________________\n",
      "dense_7 (Dense)              (None, 64)                122944    \n",
      "_________________________________________________________________\n",
      "dense_8 (Dense)              (None, 39)                2535      \n",
      "=================================================================\n",
      "Total params: 765,479\n",
      "Trainable params: 765,479\n",
      "Non-trainable params: 0\n",
      "_________________________________________________________________\n"
     ]
    }
   ],
   "source": [
    "model.summary()"
   ]
  },
  {
   "cell_type": "code",
   "execution_count": 0,
   "metadata": {
    "colab": {},
    "colab_type": "code",
    "id": "-xcdAn1-yFxo"
   },
   "outputs": [],
   "source": [
    "model.compile(optimizer='rmsprop', loss='categorical_crossentropy', metrics=['accuracy'])"
   ]
  },
  {
   "cell_type": "code",
   "execution_count": 0,
   "metadata": {
    "colab": {
     "base_uri": "https://localhost:8080/",
     "height": 263
    },
    "colab_type": "code",
    "id": "GIJeF-_JzDz7",
    "outputId": "b61f9a55-e03f-4eac-830c-5cf439a1036d"
   },
   "outputs": [
    {
     "name": "stderr",
     "output_type": "stream",
     "text": [
      "/usr/local/lib/python3.6/dist-packages/tensorflow/python/framework/indexed_slices.py:434: UserWarning: Converting sparse IndexedSlices to a dense Tensor of unknown shape. This may consume a large amount of memory.\n",
      "  \"Converting sparse IndexedSlices to a dense Tensor of unknown shape. \"\n"
     ]
    },
    {
     "name": "stdout",
     "output_type": "stream",
     "text": [
      "Train on 110630 samples, validate on 27658 samples\n",
      "Epoch 1/5\n",
      "110630/110630 [==============================] - 9s 80us/step - loss: 2.3897 - accuracy: 0.3894 - val_loss: 1.8844 - val_accuracy: 0.5071\n",
      "Epoch 2/5\n",
      "110630/110630 [==============================] - 9s 79us/step - loss: 1.6066 - accuracy: 0.5709 - val_loss: 1.6172 - val_accuracy: 0.5676\n",
      "Epoch 3/5\n",
      "110630/110630 [==============================] - 9s 79us/step - loss: 1.3224 - accuracy: 0.6367 - val_loss: 1.5535 - val_accuracy: 0.5832\n",
      "Epoch 4/5\n",
      "110630/110630 [==============================] - 9s 77us/step - loss: 1.1025 - accuracy: 0.6941 - val_loss: 1.5717 - val_accuracy: 0.5820\n",
      "Epoch 5/5\n",
      "110630/110630 [==============================] - 9s 77us/step - loss: 0.8985 - accuracy: 0.7521 - val_loss: 1.6513 - val_accuracy: 0.5760\n"
     ]
    }
   ],
   "source": [
    "history = model.fit(\n",
    "                x_train, \n",
    "                y_train,\n",
    "                epochs=5,\n",
    "                batch_size=128,\n",
    "                validation_data=(x_val, y_val)\n",
    "            )"
   ]
  },
  {
   "cell_type": "code",
   "execution_count": 0,
   "metadata": {
    "colab": {},
    "colab_type": "code",
    "id": "SGB1gh1CzGfc"
   },
   "outputs": [],
   "source": [
    "def plot_model(history, epch):\n",
    "  acc = history.history['accuracy']\n",
    "  val_acc = history.history['val_accuracy']\n",
    "  loss = history.history['loss']\n",
    "  val_loss = history.history['val_loss']\n",
    "\n",
    "  epochs = range(1, epch+1)\n",
    "\n",
    "  plt.plot(epochs, acc, 'bo', label='Training_acc')\n",
    "  plt.plot(epochs, val_acc, 'b', label='Validation_acc')\n",
    "  plt.title('Training and validation accuracy')\n",
    "  plt.legend()\n",
    "\n",
    "  plt.figure()\n",
    "  plt.plot(epochs, loss, 'bo', label='Training_loss')\n",
    "  plt.plot(epochs, val_loss, 'b', label='Validation_loss')\n",
    "  plt.title('Training and Validation loss')\n",
    "  plt.legend()\n",
    "\n",
    "  plt.show()"
   ]
  },
  {
   "cell_type": "code",
   "execution_count": 0,
   "metadata": {
    "colab": {
     "base_uri": "https://localhost:8080/",
     "height": 545
    },
    "colab_type": "code",
    "id": "l6ixkTbl0KWU",
    "outputId": "d824b246-3c47-4e5a-f873-6dfa6b1c8cb9"
   },
   "outputs": [
    {
     "data": {
      "image/png": "[encoded data removed]",
      "text/plain": [
       "<Figure size 432x288 with 1 Axes>"
      ]
     },
     "metadata": {
      "needs_background": "light",
      "tags": []
     },
     "output_type": "display_data"
    },
    {
     "data": {
      "image/png": "[encoded data removed]",
      "text/plain": [
       "<Figure size 432x288 with 1 Axes>"
      ]
     },
     "metadata": {
      "needs_background": "light",
      "tags": []
     },
     "output_type": "display_data"
    }
   ],
   "source": [
    "plot_model(history, 5)"
   ]
  },
  {
   "cell_type": "code",
   "execution_count": 0,
   "metadata": {
    "colab": {},
    "colab_type": "code",
    "id": "GMBXn9Cx0QMD"
   },
   "outputs": [],
   "source": [
    "# our model starts to overfit after some epochs. Lets try introducing some regularization."
   ]
  },
  {
   "cell_type": "code",
   "execution_count": 0,
   "metadata": {
    "colab": {
     "base_uri": "https://localhost:8080/",
     "height": 52
    },
    "colab_type": "code",
    "id": "QfU0BcAk0cbL",
    "outputId": "d58e3f86-bcd4-4d76-b86e-940e8883c8a4"
   },
   "outputs": [
    {
     "name": "stdout",
     "output_type": "stream",
     "text": [
      "59267/59267 [==============================] - 2s 35us/step\n"
     ]
    },
    {
     "data": {
      "text/plain": [
       "[1.6675115256069992, 0.5723589658737183]"
      ]
     },
     "execution_count": 113,
     "metadata": {
      "tags": []
     },
     "output_type": "execute_result"
    }
   ],
   "source": [
    "model.evaluate(x_test, y_test)"
   ]
  },
  {
   "cell_type": "code",
   "execution_count": 0,
   "metadata": {
    "colab": {},
    "colab_type": "code",
    "id": "66mabqUG0eym"
   },
   "outputs": [],
   "source": [
    "# we will try introducing regularization to handle overfitting\n",
    "\n",
    "model = Sequential()\n",
    "model.add(Embedding(max_words, 64, input_length=max_len))\n",
    "model.add(Flatten())\n",
    "model.add(Dense(64, activation='relu', kernel_regularizer=regularizers.l2(0.01)))\n",
    "model.add(Dense(n_classes, activation='softmax'))"
   ]
  },
  {
   "cell_type": "code",
   "execution_count": 0,
   "metadata": {
    "colab": {
     "base_uri": "https://localhost:8080/",
     "height": 295
    },
    "colab_type": "code",
    "id": "Zz5wN1kc0opK",
    "outputId": "49a94455-3ad9-4290-c3dd-a5e261c4d277"
   },
   "outputs": [
    {
     "name": "stdout",
     "output_type": "stream",
     "text": [
      "Model: \"sequential_6\"\n",
      "_________________________________________________________________\n",
      "Layer (type)                 Output Shape              Param #   \n",
      "=================================================================\n",
      "embedding_6 (Embedding)      (None, 30, 64)            640000    \n",
      "_________________________________________________________________\n",
      "flatten_6 (Flatten)          (None, 1920)              0         \n",
      "_________________________________________________________________\n",
      "dense_11 (Dense)             (None, 64)                122944    \n",
      "_________________________________________________________________\n",
      "dense_12 (Dense)             (None, 39)                2535      \n",
      "=================================================================\n",
      "Total params: 765,479\n",
      "Trainable params: 765,479\n",
      "Non-trainable params: 0\n",
      "_________________________________________________________________\n"
     ]
    }
   ],
   "source": [
    "model.summary()"
   ]
  },
  {
   "cell_type": "code",
   "execution_count": 0,
   "metadata": {
    "colab": {},
    "colab_type": "code",
    "id": "bO7qLRDA0qlr"
   },
   "outputs": [],
   "source": [
    "model.compile(optimizer='rmsprop', loss='categorical_crossentropy', metrics=['accuracy'])"
   ]
  },
  {
   "cell_type": "code",
   "execution_count": 0,
   "metadata": {
    "colab": {
     "base_uri": "https://localhost:8080/",
     "height": 627
    },
    "colab_type": "code",
    "id": "i__fQyh90sq6",
    "outputId": "365ce4c5-d8d4-48e3-e8c1-1db3db90405a"
   },
   "outputs": [
    {
     "name": "stderr",
     "output_type": "stream",
     "text": [
      "/usr/local/lib/python3.6/dist-packages/tensorflow/python/framework/indexed_slices.py:434: UserWarning: Converting sparse IndexedSlices to a dense Tensor of unknown shape. This may consume a large amount of memory.\n",
      "  \"Converting sparse IndexedSlices to a dense Tensor of unknown shape. \"\n"
     ]
    },
    {
     "name": "stdout",
     "output_type": "stream",
     "text": [
      "Train on 110630 samples, validate on 27658 samples\n",
      "Epoch 1/15\n",
      "110630/110630 [==============================] - 9s 81us/step - loss: 2.8677 - accuracy: 0.2962 - val_loss: 2.5818 - val_accuracy: 0.3464\n",
      "Epoch 2/15\n",
      "110630/110630 [==============================] - 9s 79us/step - loss: 2.4183 - accuracy: 0.3852 - val_loss: 2.3378 - val_accuracy: 0.4114\n",
      "Epoch 3/15\n",
      "110630/110630 [==============================] - 9s 80us/step - loss: 2.1689 - accuracy: 0.4576 - val_loss: 2.1303 - val_accuracy: 0.4772\n",
      "Epoch 4/15\n",
      "110630/110630 [==============================] - 9s 78us/step - loss: 1.9760 - accuracy: 0.5183 - val_loss: 1.9927 - val_accuracy: 0.5205\n",
      "Epoch 5/15\n",
      "110630/110630 [==============================] - 9s 78us/step - loss: 1.8332 - accuracy: 0.5505 - val_loss: 1.9095 - val_accuracy: 0.5329\n",
      "Epoch 6/15\n",
      "110630/110630 [==============================] - 9s 78us/step - loss: 1.7344 - accuracy: 0.5729 - val_loss: 1.8486 - val_accuracy: 0.5414\n",
      "Epoch 7/15\n",
      "110630/110630 [==============================] - 9s 80us/step - loss: 1.6592 - accuracy: 0.5913 - val_loss: 1.8330 - val_accuracy: 0.5478\n",
      "Epoch 8/15\n",
      "110630/110630 [==============================] - 9s 79us/step - loss: 1.5969 - accuracy: 0.6056 - val_loss: 1.8226 - val_accuracy: 0.5571\n",
      "Epoch 9/15\n",
      "110630/110630 [==============================] - 9s 78us/step - loss: 1.5373 - accuracy: 0.6230 - val_loss: 1.8265 - val_accuracy: 0.5566\n",
      "Epoch 10/15\n",
      "110630/110630 [==============================] - 8s 76us/step - loss: 1.4803 - accuracy: 0.6405 - val_loss: 1.8218 - val_accuracy: 0.5603\n",
      "Epoch 11/15\n",
      "110630/110630 [==============================] - 8s 76us/step - loss: 1.4229 - accuracy: 0.6588 - val_loss: 1.8727 - val_accuracy: 0.5535\n",
      "Epoch 12/15\n",
      "110630/110630 [==============================] - 8s 76us/step - loss: 1.3640 - accuracy: 0.6776 - val_loss: 1.9057 - val_accuracy: 0.5479\n",
      "Epoch 13/15\n",
      "110630/110630 [==============================] - 8s 76us/step - loss: 1.3046 - accuracy: 0.6975 - val_loss: 1.9213 - val_accuracy: 0.5486\n",
      "Epoch 14/15\n",
      "110630/110630 [==============================] - 8s 76us/step - loss: 1.2450 - accuracy: 0.7170 - val_loss: 1.9766 - val_accuracy: 0.5490\n",
      "Epoch 15/15\n",
      "110630/110630 [==============================] - 8s 76us/step - loss: 1.1875 - accuracy: 0.7347 - val_loss: 2.0454 - val_accuracy: 0.5336\n"
     ]
    },
    {
     "data": {
      "text/plain": [
       "<keras.callbacks.callbacks.History at 0x7fc67f911f28>"
      ]
     },
     "execution_count": 121,
     "metadata": {
      "tags": []
     },
     "output_type": "execute_result"
    }
   ],
   "source": [
    "model.fit(\n",
    "    x_train,\n",
    "    y_train,\n",
    "    epochs=15,\n",
    "    batch_size=128,\n",
    "    validation_data=(x_val, y_val)\n",
    ")"
   ]
  },
  {
   "cell_type": "code",
   "execution_count": 0,
   "metadata": {
    "colab": {},
    "colab_type": "code",
    "id": "iFb0yxZL0ya5"
   },
   "outputs": [],
   "source": [
    "# it looks like our model is not able to get accuracy above 56%, lets try adding more layers and see the performance."
   ]
  },
  {
   "cell_type": "code",
   "execution_count": 0,
   "metadata": {
    "colab": {},
    "colab_type": "code",
    "id": "yjxw7ZvU4QxW"
   },
   "outputs": [],
   "source": [
    "model = Sequential()\n",
    "model.add(Embedding(max_words, 64, input_length=max_len))\n",
    "model.add(Flatten())\n",
    "model.add(Dense(64, activation=\"relu\", kernel_regularizer=regularizers.l2(0.01)))\n",
    "model.add(Dense(64, activation=\"relu\", kernel_regularizer=regularizers.l2(0.01)))\n",
    "model.add(Dense(n_classes, activation=\"softmax\"))"
   ]
  },
  {
   "cell_type": "code",
   "execution_count": 0,
   "metadata": {
    "colab": {
     "base_uri": "https://localhost:8080/",
     "height": 330
    },
    "colab_type": "code",
    "id": "SUKVslLy43VC",
    "outputId": "0a14004b-d917-4483-d85a-99c2134423a2"
   },
   "outputs": [
    {
     "name": "stdout",
     "output_type": "stream",
     "text": [
      "Model: \"sequential_11\"\n",
      "_________________________________________________________________\n",
      "Layer (type)                 Output Shape              Param #   \n",
      "=================================================================\n",
      "embedding_10 (Embedding)     (None, 30, 64)            640000    \n",
      "_________________________________________________________________\n",
      "flatten_10 (Flatten)         (None, 1920)              0         \n",
      "_________________________________________________________________\n",
      "dense_19 (Dense)             (None, 64)                122944    \n",
      "_________________________________________________________________\n",
      "dense_20 (Dense)             (None, 64)                4160      \n",
      "_________________________________________________________________\n",
      "dense_21 (Dense)             (None, 39)                2535      \n",
      "=================================================================\n",
      "Total params: 769,639\n",
      "Trainable params: 769,639\n",
      "Non-trainable params: 0\n",
      "_________________________________________________________________\n"
     ]
    }
   ],
   "source": [
    "model.summary()"
   ]
  },
  {
   "cell_type": "code",
   "execution_count": 0,
   "metadata": {
    "colab": {},
    "colab_type": "code",
    "id": "UKyvDM4W5B_S"
   },
   "outputs": [],
   "source": [
    "model.compile(\n",
    "    optimizer=\"rmsprop\", \n",
    "    loss=\"categorical_crossentropy\",\n",
    "    metrics=[\"accuracy\"]\n",
    ")"
   ]
  },
  {
   "cell_type": "code",
   "execution_count": 0,
   "metadata": {
    "colab": {
     "base_uri": "https://localhost:8080/",
     "height": 801
    },
    "colab_type": "code",
    "id": "kBLJeiKj5TgF",
    "outputId": "e319c348-0b83-4437-d8d6-d6054e705b64"
   },
   "outputs": [
    {
     "name": "stderr",
     "output_type": "stream",
     "text": [
      "/usr/local/lib/python3.6/dist-packages/tensorflow/python/framework/indexed_slices.py:434: UserWarning: Converting sparse IndexedSlices to a dense Tensor of unknown shape. This may consume a large amount of memory.\n",
      "  \"Converting sparse IndexedSlices to a dense Tensor of unknown shape. \"\n"
     ]
    },
    {
     "name": "stdout",
     "output_type": "stream",
     "text": [
      "Train on 110630 samples, validate on 27658 samples\n",
      "Epoch 1/20\n",
      "110630/110630 [==============================] - 9s 80us/step - loss: 2.9860 - accuracy: 0.2731 - val_loss: 2.6970 - val_accuracy: 0.3297\n",
      "Epoch 2/20\n",
      "110630/110630 [==============================] - 9s 78us/step - loss: 2.5576 - accuracy: 0.3512 - val_loss: 2.5391 - val_accuracy: 0.3531\n",
      "Epoch 3/20\n",
      "110630/110630 [==============================] - 9s 82us/step - loss: 2.4301 - accuracy: 0.3724 - val_loss: 2.4511 - val_accuracy: 0.3741\n",
      "Epoch 4/20\n",
      "110630/110630 [==============================] - 9s 78us/step - loss: 2.3146 - accuracy: 0.4122 - val_loss: 2.3369 - val_accuracy: 0.4168\n",
      "Epoch 5/20\n",
      "110630/110630 [==============================] - 9s 78us/step - loss: 2.1937 - accuracy: 0.4461 - val_loss: 2.2803 - val_accuracy: 0.4293\n",
      "Epoch 6/20\n",
      "110630/110630 [==============================] - 9s 78us/step - loss: 2.1120 - accuracy: 0.4674 - val_loss: 2.2430 - val_accuracy: 0.4482\n",
      "Epoch 7/20\n",
      "110630/110630 [==============================] - 9s 77us/step - loss: 2.0391 - accuracy: 0.4891 - val_loss: 2.2553 - val_accuracy: 0.4495\n",
      "Epoch 8/20\n",
      "110630/110630 [==============================] - 9s 77us/step - loss: 1.9623 - accuracy: 0.5124 - val_loss: 2.2598 - val_accuracy: 0.4611\n",
      "Epoch 9/20\n",
      "110630/110630 [==============================] - 9s 77us/step - loss: 1.8833 - accuracy: 0.5358 - val_loss: 2.2803 - val_accuracy: 0.4617\n",
      "Epoch 10/20\n",
      "110630/110630 [==============================] - 8s 77us/step - loss: 1.8036 - accuracy: 0.5583 - val_loss: 2.3495 - val_accuracy: 0.4600\n",
      "Epoch 11/20\n",
      "110630/110630 [==============================] - 8s 76us/step - loss: 1.7183 - accuracy: 0.5855 - val_loss: 2.3854 - val_accuracy: 0.4660\n",
      "Epoch 12/20\n",
      "110630/110630 [==============================] - 8s 77us/step - loss: 1.6290 - accuracy: 0.6127 - val_loss: 2.4632 - val_accuracy: 0.4576\n",
      "Epoch 13/20\n",
      "110630/110630 [==============================] - 9s 78us/step - loss: 1.5395 - accuracy: 0.6404 - val_loss: 2.5792 - val_accuracy: 0.4462\n",
      "Epoch 14/20\n",
      "110630/110630 [==============================] - 9s 77us/step - loss: 1.4528 - accuracy: 0.6694 - val_loss: 2.6761 - val_accuracy: 0.4368\n",
      "Epoch 15/20\n",
      "110630/110630 [==============================] - 8s 77us/step - loss: 1.3732 - accuracy: 0.6961 - val_loss: 2.7554 - val_accuracy: 0.4427\n",
      "Epoch 16/20\n",
      "110630/110630 [==============================] - 9s 77us/step - loss: 1.2951 - accuracy: 0.7214 - val_loss: 2.8782 - val_accuracy: 0.4354\n",
      "Epoch 17/20\n",
      "110630/110630 [==============================] - 9s 77us/step - loss: 1.2254 - accuracy: 0.7434 - val_loss: 2.9839 - val_accuracy: 0.4315\n",
      "Epoch 18/20\n",
      "110630/110630 [==============================] - 9s 77us/step - loss: 1.1596 - accuracy: 0.7642 - val_loss: 3.1225 - val_accuracy: 0.4262\n",
      "Epoch 19/20\n",
      "110630/110630 [==============================] - 9s 78us/step - loss: 1.1012 - accuracy: 0.7827 - val_loss: 3.2634 - val_accuracy: 0.4153\n",
      "Epoch 20/20\n",
      "110630/110630 [==============================] - 9s 79us/step - loss: 1.0463 - accuracy: 0.7981 - val_loss: 3.3917 - val_accuracy: 0.4123\n"
     ]
    },
    {
     "data": {
      "text/plain": [
       "<keras.callbacks.callbacks.History at 0x7fc67f4bb9b0>"
      ]
     },
     "execution_count": 137,
     "metadata": {
      "tags": []
     },
     "output_type": "execute_result"
    }
   ],
   "source": [
    "model.fit(\n",
    "    x_train, \n",
    "    y_train,\n",
    "    epochs=20,\n",
    "    batch_size=128,\n",
    "    validation_data=(x_val, y_val)\n",
    ")"
   ]
  },
  {
   "cell_type": "code",
   "execution_count": 0,
   "metadata": {
    "colab": {
     "base_uri": "https://localhost:8080/",
     "height": 104
    },
    "colab_type": "code",
    "id": "0gSrnEXq5her",
    "outputId": "62c6a682-3362-4eb8-9ce3-011664a9952c"
   },
   "outputs": [
    {
     "name": "stdout",
     "output_type": "stream",
     "text": [
      "  % Total    % Received % Xferd  Average Speed   Time    Time     Time  Current\n",
      "                                 Dload  Upload   Total   Spent    Left  Speed\n",
      "\r",
      "  0     0    0     0    0     0      0      0 --:--:-- --:--:-- --:--:--     0\r",
      "  0   308    0     0    0     0      0      0 --:--:-- --:--:-- --:--:--     0\n",
      "  0   345    0     0    0     0      0      0 --:--:-- --:--:-- --:--:--     0\n",
      "100  822M  100  822M    0     0  2165k      0  0:06:28  0:06:28 --:--:-- 2176k\n"
     ]
    }
   ],
   "source": [
    "# lets now try using pretrained word embedding - GloVe word embedding\n",
    "!curl -LO http://nlp.stanford.edu/data/glove.6B.zip"
   ]
  },
  {
   "cell_type": "code",
   "execution_count": 0,
   "metadata": {
    "colab": {
     "base_uri": "https://localhost:8080/",
     "height": 104
    },
    "colab_type": "code",
    "id": "kUemrM6m89yy",
    "outputId": "d4e2e7ae-a77c-4313-a2c1-f264b983ebfe"
   },
   "outputs": [
    {
     "name": "stdout",
     "output_type": "stream",
     "text": [
      "Archive:  glove.6B.zip\n",
      "  inflating: glove.6B.50d.txt        \n",
      "  inflating: glove.6B.100d.txt       \n",
      "  inflating: glove.6B.200d.txt       \n",
      "  inflating: glove.6B.300d.txt       \n"
     ]
    }
   ],
   "source": [
    "!unzip glove.6B.zip"
   ]
  },
  {
   "cell_type": "code",
   "execution_count": 0,
   "metadata": {
    "colab": {},
    "colab_type": "code",
    "id": "3pMZiqAX9FdL"
   },
   "outputs": [],
   "source": [
    "embeddings_index = {}\n",
    "\n",
    "with open(\"glove.6B.100d.txt\", \"r\") as file:\n",
    "    for line in file:\n",
    "        values = line.split()\n",
    "        word = values[0]\n",
    "        coeffs = np.asarray(values[1:], dtype='float32')\n",
    "        embeddings_index[word] = coeffs"
   ]
  },
  {
   "cell_type": "code",
   "execution_count": 0,
   "metadata": {
    "colab": {
     "base_uri": "https://localhost:8080/",
     "height": 34
    },
    "colab_type": "code",
    "id": "9587ttyB8CPh",
    "outputId": "17a8f249-75c2-4674-aa6d-37fb0aa0614a"
   },
   "outputs": [
    {
     "name": "stdout",
     "output_type": "stream",
     "text": [
      "there are 400000 tokens.\n"
     ]
    }
   ],
   "source": [
    "print(f\"there are {len(embeddings_index)} tokens.\")"
   ]
  },
  {
   "cell_type": "code",
   "execution_count": 0,
   "metadata": {
    "colab": {},
    "colab_type": "code",
    "id": "ewcR2HWWJnk1"
   },
   "outputs": [],
   "source": [
    "# creating the embedding matrix\n",
    "embedding_dim = 100\n",
    "\n",
    "embedding_matrix = np.zeros((max_words, embedding_dim))\n",
    "for word, i in word_index.items():\n",
    "    if i < max_words:\n",
    "        embedding_vector = embeddings_index.get(word)\n",
    "        if embedding_vector is not None:\n",
    "            embedding_matrix[i] = embedding_vector"
   ]
  },
  {
   "cell_type": "code",
   "execution_count": 0,
   "metadata": {
    "colab": {
     "base_uri": "https://localhost:8080/",
     "height": 364
    },
    "colab_type": "code",
    "id": "CgO5l1SAJglg",
    "outputId": "0e99584f-decf-42ec-ea32-a91143970d8e"
   },
   "outputs": [
    {
     "data": {
      "text/plain": [
       "array([-0.22556999,  0.49417999,  0.48609999, -0.4332    ,  0.13738   ,\n",
       "        0.50616997,  0.26058   ,  0.30103001, -0.091486  ,  0.10876   ,\n",
       "        0.30579999,  0.051028  ,  0.22303   ,  0.054236  ,  0.068838  ,\n",
       "       -0.24700999,  0.32688999, -0.082203  , -0.28865999,  0.3734    ,\n",
       "        0.73803997, -0.040969  ,  0.040201  ,  0.11384   ,  0.69986999,\n",
       "       -0.49744999, -0.06755   , -0.42598999, -0.10725   , -0.010697  ,\n",
       "       -0.01479   ,  0.55975997,  0.3064    ,  0.053053  ,  0.058034  ,\n",
       "        0.32756001, -0.37233001,  0.46513   ,  0.14285   , -0.085003  ,\n",
       "       -0.45475999,  0.19773   ,  0.6383    , -0.31147999,  0.10858   ,\n",
       "        0.31557   ,  0.36682001, -0.35135001, -0.48414001, -0.33234999,\n",
       "       -0.33816001, -0.39678001,  0.1908    ,  1.3513    , -0.39043999,\n",
       "       -2.87949991, -0.14275999, -0.087754  ,  1.77129996,  0.99331999,\n",
       "       -0.14128999,  0.94388998,  0.050897  ,  0.47373   ,  0.86387002,\n",
       "       -0.16162001,  0.67198998,  0.52344   ,  0.14438   , -0.055194  ,\n",
       "       -0.34669   , -0.20742001,  0.18907   , -0.19845   ,  0.34862   ,\n",
       "        0.10121   , -0.092119  , -0.66258001, -1.0582    , -0.11803   ,\n",
       "        0.70170999,  0.077776  , -0.50546002,  0.032243  , -1.61759996,\n",
       "       -0.29302001, -0.061748  , -0.32473001,  0.3439    , -0.44698   ,\n",
       "        0.085689  ,  0.13294999, -0.1807    , -0.11854   , -0.82985002,\n",
       "        0.13784   , -0.34358999, -0.45743999,  0.49645999,  0.34906   ])"
      ]
     },
     "execution_count": 153,
     "metadata": {
      "tags": []
     },
     "output_type": "execute_result"
    }
   ],
   "source": [
    "embedding_matrix[2]"
   ]
  },
  {
   "cell_type": "code",
   "execution_count": 0,
   "metadata": {
    "colab": {},
    "colab_type": "code",
    "id": "lIFcUjnMKFUX"
   },
   "outputs": [],
   "source": [
    "model = Sequential()\n",
    "model.add(Embedding(max_words, embedding_dim, input_length=max_len))\n",
    "model.add(Flatten())\n",
    "model.add(Dense(64, activation=\"relu\"))\n",
    "model.add(Dense(n_classes, activation=\"softmax\"))"
   ]
  },
  {
   "cell_type": "code",
   "execution_count": 0,
   "metadata": {
    "colab": {
     "base_uri": "https://localhost:8080/",
     "height": 295
    },
    "colab_type": "code",
    "id": "QV5GoD1nKOUE",
    "outputId": "0d070ab3-4955-4791-9fb8-2641838e5d58"
   },
   "outputs": [
    {
     "name": "stdout",
     "output_type": "stream",
     "text": [
      "Model: \"sequential_13\"\n",
      "_________________________________________________________________\n",
      "Layer (type)                 Output Shape              Param #   \n",
      "=================================================================\n",
      "embedding_12 (Embedding)     (None, 30, 100)           1000000   \n",
      "_________________________________________________________________\n",
      "flatten_12 (Flatten)         (None, 3000)              0         \n",
      "_________________________________________________________________\n",
      "dense_24 (Dense)             (None, 64)                192064    \n",
      "_________________________________________________________________\n",
      "dense_25 (Dense)             (None, 39)                2535      \n",
      "=================================================================\n",
      "Total params: 1,194,599\n",
      "Trainable params: 1,194,599\n",
      "Non-trainable params: 0\n",
      "_________________________________________________________________\n"
     ]
    }
   ],
   "source": [
    "model.summary()"
   ]
  },
  {
   "cell_type": "code",
   "execution_count": 0,
   "metadata": {
    "colab": {},
    "colab_type": "code",
    "id": "9a3xVAqdKWDF"
   },
   "outputs": [],
   "source": [
    "model.layers[0].set_weights([embedding_matrix])\n",
    "model.layers[0].trainable = False"
   ]
  },
  {
   "cell_type": "code",
   "execution_count": 0,
   "metadata": {
    "colab": {},
    "colab_type": "code",
    "id": "3dFjoEdTKZhW"
   },
   "outputs": [],
   "source": [
    "model.compile(optimizer=\"rmsprop\", loss=\"categorical_crossentropy\", metrics=[\"accuracy\"])"
   ]
  },
  {
   "cell_type": "code",
   "execution_count": 0,
   "metadata": {
    "colab": {
     "base_uri": "https://localhost:8080/",
     "height": 382
    },
    "colab_type": "code",
    "id": "KdrB6FBKKlj1",
    "outputId": "05aaf7b0-7c9f-4d78-c9ee-de54dc435d6c"
   },
   "outputs": [
    {
     "name": "stdout",
     "output_type": "stream",
     "text": [
      "Train on 110630 samples, validate on 27658 samples\n",
      "Epoch 1/10\n",
      "110630/110630 [==============================] - 5s 46us/step - loss: 2.0437 - accuracy: 0.4565 - val_loss: 1.8307 - val_accuracy: 0.4931\n",
      "Epoch 2/10\n",
      "110630/110630 [==============================] - 5s 44us/step - loss: 1.6671 - accuracy: 0.5347 - val_loss: 1.8190 - val_accuracy: 0.5004\n",
      "Epoch 3/10\n",
      "110630/110630 [==============================] - 5s 44us/step - loss: 1.5358 - accuracy: 0.5647 - val_loss: 1.8393 - val_accuracy: 0.4984\n",
      "Epoch 4/10\n",
      "110630/110630 [==============================] - 5s 44us/step - loss: 1.4409 - accuracy: 0.5871 - val_loss: 1.8608 - val_accuracy: 0.4986\n",
      "Epoch 5/10\n",
      "110630/110630 [==============================] - 5s 44us/step - loss: 1.3634 - accuracy: 0.6076 - val_loss: 1.9154 - val_accuracy: 0.4966\n",
      "Epoch 6/10\n",
      "110630/110630 [==============================] - 5s 45us/step - loss: 1.2995 - accuracy: 0.6226 - val_loss: 1.9753 - val_accuracy: 0.4881\n",
      "Epoch 7/10\n",
      "110630/110630 [==============================] - 5s 44us/step - loss: 1.2448 - accuracy: 0.6382 - val_loss: 2.0315 - val_accuracy: 0.4821\n",
      "Epoch 8/10\n",
      "110630/110630 [==============================] - 5s 43us/step - loss: 1.1967 - accuracy: 0.6515 - val_loss: 2.1013 - val_accuracy: 0.4774\n",
      "Epoch 9/10\n",
      "110630/110630 [==============================] - 5s 44us/step - loss: 1.1537 - accuracy: 0.6628 - val_loss: 2.1634 - val_accuracy: 0.4776\n",
      "Epoch 10/10\n",
      "110630/110630 [==============================] - 5s 44us/step - loss: 1.1153 - accuracy: 0.6747 - val_loss: 2.2329 - val_accuracy: 0.4738\n"
     ]
    }
   ],
   "source": [
    "history = model.fit(\n",
    "    x_train,\n",
    "    y_train,\n",
    "    epochs=10,\n",
    "    batch_size=128,\n",
    "    validation_data=(x_val, y_val)\n",
    ")"
   ]
  },
  {
   "cell_type": "code",
   "execution_count": 0,
   "metadata": {
    "colab": {
     "base_uri": "https://localhost:8080/",
     "height": 52
    },
    "colab_type": "code",
    "id": "6QD_ZRQIKqos",
    "outputId": "95f0f1ae-d65f-407f-be3f-c426291f977c"
   },
   "outputs": [
    {
     "name": "stdout",
     "output_type": "stream",
     "text": [
      "59267/59267 [==============================] - 2s 34us/step\n"
     ]
    },
    {
     "data": {
      "text/plain": [
       "[2.2618018843262875, 0.4719827175140381]"
      ]
     },
     "execution_count": 161,
     "metadata": {
      "tags": []
     },
     "output_type": "execute_result"
    }
   ],
   "source": [
    "model.evaluate(x_test, y_test)"
   ]
  },
  {
   "cell_type": "code",
   "execution_count": 0,
   "metadata": {
    "colab": {},
    "colab_type": "code",
    "id": "ZN6FXYVfJ7YK"
   },
   "outputs": [],
   "source": [
    "# it seems like the combination of Embedding and Dense layer are not able to perform well on text problem.\n",
    "# lets try implementing some advanced architecture which are tuned to work with sequence data."
   ]
  },
  {
   "cell_type": "code",
   "execution_count": 0,
   "metadata": {
    "colab": {},
    "colab_type": "code",
    "id": "tjLkOkpcR6OG"
   },
   "outputs": [],
   "source": [
    "model = Sequential()\n",
    "model.add(Embedding(max_words, 64, input_length=max_len))\n",
    "model.add(SimpleRNN(64))\n",
    "model.add(Dense(n_classes, activation=\"softmax\"))"
   ]
  },
  {
   "cell_type": "code",
   "execution_count": 0,
   "metadata": {
    "colab": {},
    "colab_type": "code",
    "id": "rQgXCrj0Up_u"
   },
   "outputs": [],
   "source": [
    "model.compile(\n",
    "    optimizer=\"rmsprop\",\n",
    "    loss=\"categorical_crossentropy\",\n",
    "    metrics=[\"accuracy\"]\n",
    ")"
   ]
  },
  {
   "cell_type": "code",
   "execution_count": 0,
   "metadata": {
    "colab": {
     "base_uri": "https://localhost:8080/",
     "height": 436
    },
    "colab_type": "code",
    "id": "EKPy6eI0UZBt",
    "outputId": "af70834a-d05a-4bdd-c43b-43f05314ab96"
   },
   "outputs": [
    {
     "name": "stderr",
     "output_type": "stream",
     "text": [
      "/usr/local/lib/python3.6/dist-packages/tensorflow/python/framework/indexed_slices.py:434: UserWarning: Converting sparse IndexedSlices to a dense Tensor of unknown shape. This may consume a large amount of memory.\n",
      "  \"Converting sparse IndexedSlices to a dense Tensor of unknown shape. \"\n"
     ]
    },
    {
     "name": "stdout",
     "output_type": "stream",
     "text": [
      "Train on 110630 samples, validate on 27658 samples\n",
      "Epoch 1/10\n",
      "110630/110630 [==============================] - 17s 155us/step - loss: 2.7116 - accuracy: 0.3047 - val_loss: 2.3531 - val_accuracy: 0.3759\n",
      "Epoch 2/10\n",
      "110630/110630 [==============================] - 17s 154us/step - loss: 2.1051 - accuracy: 0.4470 - val_loss: 2.0788 - val_accuracy: 0.4609\n",
      "Epoch 3/10\n",
      "110630/110630 [==============================] - 17s 153us/step - loss: 1.8228 - accuracy: 0.5227 - val_loss: 1.8792 - val_accuracy: 0.5101\n",
      "Epoch 4/10\n",
      "110630/110630 [==============================] - 17s 154us/step - loss: 1.6394 - accuracy: 0.5672 - val_loss: 1.8441 - val_accuracy: 0.5239\n",
      "Epoch 5/10\n",
      "110630/110630 [==============================] - 17s 153us/step - loss: 1.5090 - accuracy: 0.5974 - val_loss: 1.7770 - val_accuracy: 0.5434\n",
      "Epoch 6/10\n",
      "110630/110630 [==============================] - 17s 155us/step - loss: 1.4023 - accuracy: 0.6247 - val_loss: 1.7577 - val_accuracy: 0.5415\n",
      "Epoch 7/10\n",
      "110630/110630 [==============================] - 17s 154us/step - loss: 1.3105 - accuracy: 0.6473 - val_loss: 1.8137 - val_accuracy: 0.5331\n",
      "Epoch 8/10\n",
      "110630/110630 [==============================] - 17s 155us/step - loss: 1.2248 - accuracy: 0.6701 - val_loss: 1.8211 - val_accuracy: 0.5350\n",
      "Epoch 9/10\n",
      "110630/110630 [==============================] - 17s 154us/step - loss: 1.1434 - accuracy: 0.6921 - val_loss: 1.8575 - val_accuracy: 0.5300\n",
      "Epoch 10/10\n",
      "110630/110630 [==============================] - 17s 154us/step - loss: 1.0605 - accuracy: 0.7138 - val_loss: 1.8739 - val_accuracy: 0.5298\n"
     ]
    }
   ],
   "source": [
    "history = model.fit(\n",
    "    x_train,\n",
    "    y_train,\n",
    "    epochs=10,\n",
    "    batch_size=128,\n",
    "    validation_data=(x_val, y_val)\n",
    ")"
   ]
  },
  {
   "cell_type": "code",
   "execution_count": 0,
   "metadata": {
    "colab": {},
    "colab_type": "code",
    "id": "JriWF0afnKbi"
   },
   "outputs": [],
   "source": [
    "# let us try using LSTM layer\n",
    "\n",
    "model = Sequential()\n",
    "model.add(Embedding(max_words, 64, input_length=max_len))\n",
    "model.add(LSTM(64))\n",
    "model.add(Dense(64, activation=\"relu\"))\n",
    "model.add(Dense(n_classes, activation=\"softmax\"))"
   ]
  },
  {
   "cell_type": "code",
   "execution_count": 0,
   "metadata": {
    "colab": {
     "base_uri": "https://localhost:8080/",
     "height": 295
    },
    "colab_type": "code",
    "id": "9dTFnxRH9v2q",
    "outputId": "de96dc0a-69a7-4f9e-ee55-05d7e982ea54"
   },
   "outputs": [
    {
     "name": "stdout",
     "output_type": "stream",
     "text": [
      "Model: \"sequential_1\"\n",
      "_________________________________________________________________\n",
      "Layer (type)                 Output Shape              Param #   \n",
      "=================================================================\n",
      "embedding_1 (Embedding)      (None, 30, 64)            640000    \n",
      "_________________________________________________________________\n",
      "lstm_1 (LSTM)                (None, 64)                33024     \n",
      "_________________________________________________________________\n",
      "dense_1 (Dense)              (None, 64)                4160      \n",
      "_________________________________________________________________\n",
      "dense_2 (Dense)              (None, 39)                2535      \n",
      "=================================================================\n",
      "Total params: 679,719\n",
      "Trainable params: 679,719\n",
      "Non-trainable params: 0\n",
      "_________________________________________________________________\n"
     ]
    }
   ],
   "source": [
    "model.summary()"
   ]
  },
  {
   "cell_type": "code",
   "execution_count": 0,
   "metadata": {
    "colab": {},
    "colab_type": "code",
    "id": "l9uK-WSH9xpw"
   },
   "outputs": [],
   "source": [
    "model.compile(\n",
    "    optimizer=\"rmsprop\",\n",
    "    loss=\"categorical_crossentropy\",\n",
    "    metrics=[\"accuracy\"]\n",
    ")"
   ]
  },
  {
   "cell_type": "code",
   "execution_count": 0,
   "metadata": {
    "colab": {
     "base_uri": "https://localhost:8080/",
     "height": 454
    },
    "colab_type": "code",
    "id": "rfe05HvZ-Akb",
    "outputId": "a9d80dcb-bd88-4cd5-e9b8-a64b24b70e5b"
   },
   "outputs": [
    {
     "name": "stderr",
     "output_type": "stream",
     "text": [
      "/usr/local/lib/python3.6/dist-packages/tensorflow/python/framework/indexed_slices.py:434: UserWarning: Converting sparse IndexedSlices to a dense Tensor of unknown shape. This may consume a large amount of memory.\n",
      "  \"Converting sparse IndexedSlices to a dense Tensor of unknown shape. \"\n"
     ]
    },
    {
     "name": "stdout",
     "output_type": "stream",
     "text": [
      "Train on 110630 samples, validate on 27658 samples\n",
      "Epoch 1/10\n",
      "110630/110630 [==============================] - 50s 448us/step - loss: 2.5128 - accuracy: 0.3477 - val_loss: 2.0743 - val_accuracy: 0.4576\n",
      "Epoch 2/10\n",
      "110630/110630 [==============================] - 49s 443us/step - loss: 1.8238 - accuracy: 0.5210 - val_loss: 1.7925 - val_accuracy: 0.5280\n",
      "Epoch 3/10\n",
      "110630/110630 [==============================] - 49s 443us/step - loss: 1.5838 - accuracy: 0.5768 - val_loss: 1.6437 - val_accuracy: 0.5646\n",
      "Epoch 4/10\n",
      "110630/110630 [==============================] - 49s 442us/step - loss: 1.4295 - accuracy: 0.6140 - val_loss: 1.6205 - val_accuracy: 0.5714\n",
      "Epoch 5/10\n",
      "110630/110630 [==============================] - 49s 441us/step - loss: 1.3171 - accuracy: 0.6375 - val_loss: 1.5516 - val_accuracy: 0.5888\n",
      "Epoch 6/10\n",
      "110630/110630 [==============================] - 49s 442us/step - loss: 1.2312 - accuracy: 0.6585 - val_loss: 1.5375 - val_accuracy: 0.5938\n",
      "Epoch 7/10\n",
      "110630/110630 [==============================] - 49s 441us/step - loss: 1.1603 - accuracy: 0.6754 - val_loss: 1.5412 - val_accuracy: 0.5917\n",
      "Epoch 8/10\n",
      "110630/110630 [==============================] - 49s 442us/step - loss: 1.0971 - accuracy: 0.6922 - val_loss: 1.5374 - val_accuracy: 0.5933\n",
      "Epoch 9/10\n",
      "110630/110630 [==============================] - 49s 443us/step - loss: 1.0386 - accuracy: 0.7070 - val_loss: 1.5863 - val_accuracy: 0.5951\n",
      "Epoch 10/10\n",
      "110630/110630 [==============================] - 49s 444us/step - loss: 0.9834 - accuracy: 0.7223 - val_loss: 1.5581 - val_accuracy: 0.5923\n"
     ]
    },
    {
     "data": {
      "text/plain": [
       "<keras.callbacks.callbacks.History at 0x7f233fde1b70>"
      ]
     },
     "execution_count": 40,
     "metadata": {
      "tags": []
     },
     "output_type": "execute_result"
    }
   ],
   "source": [
    "model.fit(\n",
    "    x_train,\n",
    "    y_train,\n",
    "    epochs=10,\n",
    "    batch_size=128,\n",
    "    validation_data=(x_val, y_val)\n",
    ")"
   ]
  },
  {
   "cell_type": "code",
   "execution_count": 0,
   "metadata": {
    "colab": {
     "base_uri": "https://localhost:8080/",
     "height": 52
    },
    "colab_type": "code",
    "id": "mxtJ4O0nPvH2",
    "outputId": "9aedeab4-164b-427c-d7fc-db5a254137fa"
   },
   "outputs": [
    {
     "name": "stdout",
     "output_type": "stream",
     "text": [
      "59267/59267 [==============================] - 9s 155us/step\n"
     ]
    },
    {
     "data": {
      "text/plain": [
       "[1.5690422438701446, 0.5901091694831848]"
      ]
     },
     "execution_count": 42,
     "metadata": {
      "tags": []
     },
     "output_type": "execute_result"
    }
   ],
   "source": [
    "model.evaluate(x_test, y_test)"
   ]
  },
  {
   "cell_type": "code",
   "execution_count": 0,
   "metadata": {
    "colab": {},
    "colab_type": "code",
    "id": "SYAMbTzL-N7x"
   },
   "outputs": [],
   "source": [
    "model = Sequential()\n",
    "model.add(Embedding(max_words, 64, input_length=max_len))\n",
    "model.add(LSTM(64, return_sequences=True, dropout=0.2, recurrent_dropout=0.2))\n",
    "model.add(LSTM(64, dropout=0.2, recurrent_dropout=0.2))\n",
    "model.add(Dense(64, activation=\"relu\"))\n",
    "model.add(Dense(n_classes, activation=\"softmax\"))"
   ]
  },
  {
   "cell_type": "code",
   "execution_count": 0,
   "metadata": {
    "colab": {
     "base_uri": "https://localhost:8080/",
     "height": 330
    },
    "colab_type": "code",
    "id": "FLFYpNpkxUP5",
    "outputId": "40be3ada-db66-4b9d-98ab-52aeb03c02f2"
   },
   "outputs": [
    {
     "name": "stdout",
     "output_type": "stream",
     "text": [
      "Model: \"sequential_4\"\n",
      "_________________________________________________________________\n",
      "Layer (type)                 Output Shape              Param #   \n",
      "=================================================================\n",
      "embedding_4 (Embedding)      (None, 30, 64)            640000    \n",
      "_________________________________________________________________\n",
      "lstm_4 (LSTM)                (None, 30, 64)            33024     \n",
      "_________________________________________________________________\n",
      "lstm_5 (LSTM)                (None, 64)                33024     \n",
      "_________________________________________________________________\n",
      "dense_5 (Dense)              (None, 64)                4160      \n",
      "_________________________________________________________________\n",
      "dense_6 (Dense)              (None, 39)                2535      \n",
      "=================================================================\n",
      "Total params: 712,743\n",
      "Trainable params: 712,743\n",
      "Non-trainable params: 0\n",
      "_________________________________________________________________\n"
     ]
    }
   ],
   "source": [
    "model.summary()"
   ]
  },
  {
   "cell_type": "code",
   "execution_count": 0,
   "metadata": {
    "colab": {},
    "colab_type": "code",
    "id": "b2PQCtGvQGYk"
   },
   "outputs": [],
   "source": [
    "model.compile(\n",
    "    optimizer=\"rmsprop\",\n",
    "    loss=\"categorical_crossentropy\",\n",
    "    metrics=[\"accuracy\"]\n",
    ")"
   ]
  },
  {
   "cell_type": "code",
   "execution_count": 0,
   "metadata": {
    "colab": {
     "base_uri": "https://localhost:8080/",
     "height": 801
    },
    "colab_type": "code",
    "id": "ByET2TkrQTgN",
    "outputId": "7fe30a75-7a19-4931-c010-cc4387aed01e"
   },
   "outputs": [
    {
     "name": "stderr",
     "output_type": "stream",
     "text": [
      "/usr/local/lib/python3.6/dist-packages/tensorflow/python/framework/indexed_slices.py:434: UserWarning: Converting sparse IndexedSlices to a dense Tensor of unknown shape. This may consume a large amount of memory.\n",
      "  \"Converting sparse IndexedSlices to a dense Tensor of unknown shape. \"\n"
     ]
    },
    {
     "name": "stdout",
     "output_type": "stream",
     "text": [
      "Train on 110630 samples, validate on 27658 samples\n",
      "Epoch 1/20\n",
      "110630/110630 [==============================] - 93s 843us/step - loss: 2.7107 - accuracy: 0.2952 - val_loss: 2.2446 - val_accuracy: 0.4080\n",
      "Epoch 2/20\n",
      "110630/110630 [==============================] - 92s 836us/step - loss: 2.0610 - accuracy: 0.4615 - val_loss: 1.8930 - val_accuracy: 0.5059\n",
      "Epoch 3/20\n",
      "110630/110630 [==============================] - 92s 828us/step - loss: 1.7843 - accuracy: 0.5316 - val_loss: 1.7260 - val_accuracy: 0.5425\n",
      "Epoch 4/20\n",
      "110630/110630 [==============================] - 92s 832us/step - loss: 1.6261 - accuracy: 0.5662 - val_loss: 1.6257 - val_accuracy: 0.5656\n",
      "Epoch 5/20\n",
      "110630/110630 [==============================] - 92s 833us/step - loss: 1.5140 - accuracy: 0.5930 - val_loss: 1.5663 - val_accuracy: 0.5811\n",
      "Epoch 6/20\n",
      "110630/110630 [==============================] - 92s 832us/step - loss: 1.4313 - accuracy: 0.6119 - val_loss: 1.5145 - val_accuracy: 0.5922\n",
      "Epoch 7/20\n",
      "110630/110630 [==============================] - 92s 830us/step - loss: 1.3729 - accuracy: 0.6242 - val_loss: 1.4820 - val_accuracy: 0.6000\n",
      "Epoch 8/20\n",
      "110630/110630 [==============================] - 92s 829us/step - loss: 1.3252 - accuracy: 0.6350 - val_loss: 1.4768 - val_accuracy: 0.6017\n",
      "Epoch 9/20\n",
      "110630/110630 [==============================] - 92s 828us/step - loss: 1.2875 - accuracy: 0.6433 - val_loss: 1.4578 - val_accuracy: 0.6031\n",
      "Epoch 10/20\n",
      "110630/110630 [==============================] - 91s 826us/step - loss: 1.2546 - accuracy: 0.6524 - val_loss: 1.4584 - val_accuracy: 0.6061\n",
      "Epoch 11/20\n",
      "110630/110630 [==============================] - 92s 829us/step - loss: 1.2267 - accuracy: 0.6581 - val_loss: 1.4454 - val_accuracy: 0.6083\n",
      "Epoch 12/20\n",
      "110630/110630 [==============================] - 92s 831us/step - loss: 1.2027 - accuracy: 0.6642 - val_loss: 1.4515 - val_accuracy: 0.6118\n",
      "Epoch 13/20\n",
      "110630/110630 [==============================] - 92s 828us/step - loss: 1.1791 - accuracy: 0.6688 - val_loss: 1.4439 - val_accuracy: 0.6113\n",
      "Epoch 14/20\n",
      "110630/110630 [==============================] - 92s 829us/step - loss: 1.1586 - accuracy: 0.6729 - val_loss: 1.4520 - val_accuracy: 0.6122\n",
      "Epoch 15/20\n",
      "110630/110630 [==============================] - 92s 829us/step - loss: 1.1392 - accuracy: 0.6784 - val_loss: 1.4430 - val_accuracy: 0.6132\n",
      "Epoch 16/20\n",
      "110630/110630 [==============================] - 92s 830us/step - loss: 1.1209 - accuracy: 0.6831 - val_loss: 1.4511 - val_accuracy: 0.6130\n",
      "Epoch 17/20\n",
      "110630/110630 [==============================] - 92s 830us/step - loss: 1.1031 - accuracy: 0.6872 - val_loss: 1.4510 - val_accuracy: 0.6154\n",
      "Epoch 18/20\n",
      "110630/110630 [==============================] - 92s 830us/step - loss: 1.0882 - accuracy: 0.6905 - val_loss: 1.4581 - val_accuracy: 0.6144\n",
      "Epoch 19/20\n",
      "110630/110630 [==============================] - 92s 831us/step - loss: 1.0726 - accuracy: 0.6932 - val_loss: 1.4680 - val_accuracy: 0.6153\n",
      "Epoch 20/20\n",
      "110630/110630 [==============================] - 91s 825us/step - loss: 1.0593 - accuracy: 0.6982 - val_loss: 1.4618 - val_accuracy: 0.6133\n"
     ]
    },
    {
     "data": {
      "text/plain": [
       "<keras.callbacks.callbacks.History at 0x7f233e69b128>"
      ]
     },
     "execution_count": 59,
     "metadata": {
      "tags": []
     },
     "output_type": "execute_result"
    }
   ],
   "source": [
    "model.fit(\n",
    "    x_train, \n",
    "    y_train, \n",
    "    batch_size=128,\n",
    "    epochs=20,\n",
    "    validation_data=(x_val, y_val)\n",
    ")"
   ]
  },
  {
   "cell_type": "code",
   "execution_count": 0,
   "metadata": {
    "colab": {
     "base_uri": "https://localhost:8080/",
     "height": 34
    },
    "colab_type": "code",
    "id": "Nw1eGwGcQqDw",
    "outputId": "f276b19a-5181-4182-ddd1-381ee867df95"
   },
   "outputs": [
    {
     "name": "stdout",
     "output_type": "stream",
     "text": [
      "23296/59267 [==========>...................] - ETA: 11s"
     ]
    }
   ],
   "source": [
    "model.evaluate(x_test, y_test)"
   ]
  },
  {
   "cell_type": "code",
   "execution_count": 0,
   "metadata": {
    "colab": {},
    "colab_type": "code",
    "id": "ITBE2IXRgXrF"
   },
   "outputs": [],
   "source": []
  }
 ],
 "metadata": {
  "colab": {
   "name": "NewCategorization.ipynb",
   "provenance": []
  },
  "kernelspec": {
   "display_name": "Python 3",
   "language": "python",
   "name": "python3"
  },
  "language_info": {
   "codemirror_mode": {
    "name": "ipython",
    "version": 3
   },
   "file_extension": ".py",
   "mimetype": "text/x-python",
   "name": "python",
   "nbconvert_exporter": "python",
   "pygments_lexer": "ipython3",
   "version": "3.7.5"
  }
 },
 "nbformat": 4,
 "nbformat_minor": 1
}
